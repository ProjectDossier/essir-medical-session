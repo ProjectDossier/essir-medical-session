{
  "nbformat": 4,
  "nbformat_minor": 0,
  "metadata": {
    "colab": {
      "provenance": [],
      "gpuType": "T4"
    },
    "kernelspec": {
      "name": "python3",
      "display_name": "Python 3"
    },
    "language_info": {
      "name": "python"
    },
    "accelerator": "GPU",
    "widgets": {
      "application/vnd.jupyter.widget-state+json": {
        "770f599986b84797a71daf9207a2daf3": {
          "model_module": "@jupyter-widgets/controls",
          "model_name": "HBoxModel",
          "model_module_version": "1.5.0",
          "state": {
            "_dom_classes": [],
            "_model_module": "@jupyter-widgets/controls",
            "_model_module_version": "1.5.0",
            "_model_name": "HBoxModel",
            "_view_count": null,
            "_view_module": "@jupyter-widgets/controls",
            "_view_module_version": "1.5.0",
            "_view_name": "HBoxView",
            "box_style": "",
            "children": [
              "IPY_MODEL_3d74fb6ba77f4187996aec03d93bd335",
              "IPY_MODEL_24080cf7f6bb45369da23328ccd5bbf4",
              "IPY_MODEL_e9e33bc500454784b664b24a80fd6c51"
            ],
            "layout": "IPY_MODEL_c8631d37b446418399d1243a6daa0457"
          }
        },
        "3d74fb6ba77f4187996aec03d93bd335": {
          "model_module": "@jupyter-widgets/controls",
          "model_name": "HTMLModel",
          "model_module_version": "1.5.0",
          "state": {
            "_dom_classes": [],
            "_model_module": "@jupyter-widgets/controls",
            "_model_module_version": "1.5.0",
            "_model_name": "HTMLModel",
            "_view_count": null,
            "_view_module": "@jupyter-widgets/controls",
            "_view_module_version": "1.5.0",
            "_view_name": "HTMLView",
            "description": "",
            "description_tooltip": null,
            "layout": "IPY_MODEL_6b654df77d824d5593ed599a7e0750f3",
            "placeholder": "​",
            "style": "IPY_MODEL_b85cf333e4654cd48473ee0b6267e750",
            "value": "Downloading (…)lve/main/config.json: 100%"
          }
        },
        "24080cf7f6bb45369da23328ccd5bbf4": {
          "model_module": "@jupyter-widgets/controls",
          "model_name": "FloatProgressModel",
          "model_module_version": "1.5.0",
          "state": {
            "_dom_classes": [],
            "_model_module": "@jupyter-widgets/controls",
            "_model_module_version": "1.5.0",
            "_model_name": "FloatProgressModel",
            "_view_count": null,
            "_view_module": "@jupyter-widgets/controls",
            "_view_module_version": "1.5.0",
            "_view_name": "ProgressView",
            "bar_style": "success",
            "description": "",
            "description_tooltip": null,
            "layout": "IPY_MODEL_d4779a91d3bd450bbc409d17181e3730",
            "max": 570,
            "min": 0,
            "orientation": "horizontal",
            "style": "IPY_MODEL_a29a537c8d73419b8864e3635ef8c329",
            "value": 570
          }
        },
        "e9e33bc500454784b664b24a80fd6c51": {
          "model_module": "@jupyter-widgets/controls",
          "model_name": "HTMLModel",
          "model_module_version": "1.5.0",
          "state": {
            "_dom_classes": [],
            "_model_module": "@jupyter-widgets/controls",
            "_model_module_version": "1.5.0",
            "_model_name": "HTMLModel",
            "_view_count": null,
            "_view_module": "@jupyter-widgets/controls",
            "_view_module_version": "1.5.0",
            "_view_name": "HTMLView",
            "description": "",
            "description_tooltip": null,
            "layout": "IPY_MODEL_1a9161eb72f44248b30314fadf878c4e",
            "placeholder": "​",
            "style": "IPY_MODEL_ca80754093634bfcb6a917ee3030d21a",
            "value": " 570/570 [00:00&lt;00:00, 27.4kB/s]"
          }
        },
        "c8631d37b446418399d1243a6daa0457": {
          "model_module": "@jupyter-widgets/base",
          "model_name": "LayoutModel",
          "model_module_version": "1.2.0",
          "state": {
            "_model_module": "@jupyter-widgets/base",
            "_model_module_version": "1.2.0",
            "_model_name": "LayoutModel",
            "_view_count": null,
            "_view_module": "@jupyter-widgets/base",
            "_view_module_version": "1.2.0",
            "_view_name": "LayoutView",
            "align_content": null,
            "align_items": null,
            "align_self": null,
            "border": null,
            "bottom": null,
            "display": null,
            "flex": null,
            "flex_flow": null,
            "grid_area": null,
            "grid_auto_columns": null,
            "grid_auto_flow": null,
            "grid_auto_rows": null,
            "grid_column": null,
            "grid_gap": null,
            "grid_row": null,
            "grid_template_areas": null,
            "grid_template_columns": null,
            "grid_template_rows": null,
            "height": null,
            "justify_content": null,
            "justify_items": null,
            "left": null,
            "margin": null,
            "max_height": null,
            "max_width": null,
            "min_height": null,
            "min_width": null,
            "object_fit": null,
            "object_position": null,
            "order": null,
            "overflow": null,
            "overflow_x": null,
            "overflow_y": null,
            "padding": null,
            "right": null,
            "top": null,
            "visibility": null,
            "width": null
          }
        },
        "6b654df77d824d5593ed599a7e0750f3": {
          "model_module": "@jupyter-widgets/base",
          "model_name": "LayoutModel",
          "model_module_version": "1.2.0",
          "state": {
            "_model_module": "@jupyter-widgets/base",
            "_model_module_version": "1.2.0",
            "_model_name": "LayoutModel",
            "_view_count": null,
            "_view_module": "@jupyter-widgets/base",
            "_view_module_version": "1.2.0",
            "_view_name": "LayoutView",
            "align_content": null,
            "align_items": null,
            "align_self": null,
            "border": null,
            "bottom": null,
            "display": null,
            "flex": null,
            "flex_flow": null,
            "grid_area": null,
            "grid_auto_columns": null,
            "grid_auto_flow": null,
            "grid_auto_rows": null,
            "grid_column": null,
            "grid_gap": null,
            "grid_row": null,
            "grid_template_areas": null,
            "grid_template_columns": null,
            "grid_template_rows": null,
            "height": null,
            "justify_content": null,
            "justify_items": null,
            "left": null,
            "margin": null,
            "max_height": null,
            "max_width": null,
            "min_height": null,
            "min_width": null,
            "object_fit": null,
            "object_position": null,
            "order": null,
            "overflow": null,
            "overflow_x": null,
            "overflow_y": null,
            "padding": null,
            "right": null,
            "top": null,
            "visibility": null,
            "width": null
          }
        },
        "b85cf333e4654cd48473ee0b6267e750": {
          "model_module": "@jupyter-widgets/controls",
          "model_name": "DescriptionStyleModel",
          "model_module_version": "1.5.0",
          "state": {
            "_model_module": "@jupyter-widgets/controls",
            "_model_module_version": "1.5.0",
            "_model_name": "DescriptionStyleModel",
            "_view_count": null,
            "_view_module": "@jupyter-widgets/base",
            "_view_module_version": "1.2.0",
            "_view_name": "StyleView",
            "description_width": ""
          }
        },
        "d4779a91d3bd450bbc409d17181e3730": {
          "model_module": "@jupyter-widgets/base",
          "model_name": "LayoutModel",
          "model_module_version": "1.2.0",
          "state": {
            "_model_module": "@jupyter-widgets/base",
            "_model_module_version": "1.2.0",
            "_model_name": "LayoutModel",
            "_view_count": null,
            "_view_module": "@jupyter-widgets/base",
            "_view_module_version": "1.2.0",
            "_view_name": "LayoutView",
            "align_content": null,
            "align_items": null,
            "align_self": null,
            "border": null,
            "bottom": null,
            "display": null,
            "flex": null,
            "flex_flow": null,
            "grid_area": null,
            "grid_auto_columns": null,
            "grid_auto_flow": null,
            "grid_auto_rows": null,
            "grid_column": null,
            "grid_gap": null,
            "grid_row": null,
            "grid_template_areas": null,
            "grid_template_columns": null,
            "grid_template_rows": null,
            "height": null,
            "justify_content": null,
            "justify_items": null,
            "left": null,
            "margin": null,
            "max_height": null,
            "max_width": null,
            "min_height": null,
            "min_width": null,
            "object_fit": null,
            "object_position": null,
            "order": null,
            "overflow": null,
            "overflow_x": null,
            "overflow_y": null,
            "padding": null,
            "right": null,
            "top": null,
            "visibility": null,
            "width": null
          }
        },
        "a29a537c8d73419b8864e3635ef8c329": {
          "model_module": "@jupyter-widgets/controls",
          "model_name": "ProgressStyleModel",
          "model_module_version": "1.5.0",
          "state": {
            "_model_module": "@jupyter-widgets/controls",
            "_model_module_version": "1.5.0",
            "_model_name": "ProgressStyleModel",
            "_view_count": null,
            "_view_module": "@jupyter-widgets/base",
            "_view_module_version": "1.2.0",
            "_view_name": "StyleView",
            "bar_color": null,
            "description_width": ""
          }
        },
        "1a9161eb72f44248b30314fadf878c4e": {
          "model_module": "@jupyter-widgets/base",
          "model_name": "LayoutModel",
          "model_module_version": "1.2.0",
          "state": {
            "_model_module": "@jupyter-widgets/base",
            "_model_module_version": "1.2.0",
            "_model_name": "LayoutModel",
            "_view_count": null,
            "_view_module": "@jupyter-widgets/base",
            "_view_module_version": "1.2.0",
            "_view_name": "LayoutView",
            "align_content": null,
            "align_items": null,
            "align_self": null,
            "border": null,
            "bottom": null,
            "display": null,
            "flex": null,
            "flex_flow": null,
            "grid_area": null,
            "grid_auto_columns": null,
            "grid_auto_flow": null,
            "grid_auto_rows": null,
            "grid_column": null,
            "grid_gap": null,
            "grid_row": null,
            "grid_template_areas": null,
            "grid_template_columns": null,
            "grid_template_rows": null,
            "height": null,
            "justify_content": null,
            "justify_items": null,
            "left": null,
            "margin": null,
            "max_height": null,
            "max_width": null,
            "min_height": null,
            "min_width": null,
            "object_fit": null,
            "object_position": null,
            "order": null,
            "overflow": null,
            "overflow_x": null,
            "overflow_y": null,
            "padding": null,
            "right": null,
            "top": null,
            "visibility": null,
            "width": null
          }
        },
        "ca80754093634bfcb6a917ee3030d21a": {
          "model_module": "@jupyter-widgets/controls",
          "model_name": "DescriptionStyleModel",
          "model_module_version": "1.5.0",
          "state": {
            "_model_module": "@jupyter-widgets/controls",
            "_model_module_version": "1.5.0",
            "_model_name": "DescriptionStyleModel",
            "_view_count": null,
            "_view_module": "@jupyter-widgets/base",
            "_view_module_version": "1.2.0",
            "_view_name": "StyleView",
            "description_width": ""
          }
        },
        "6ec19d5fc4c24e3a940a823d33425f8b": {
          "model_module": "@jupyter-widgets/controls",
          "model_name": "HBoxModel",
          "model_module_version": "1.5.0",
          "state": {
            "_dom_classes": [],
            "_model_module": "@jupyter-widgets/controls",
            "_model_module_version": "1.5.0",
            "_model_name": "HBoxModel",
            "_view_count": null,
            "_view_module": "@jupyter-widgets/controls",
            "_view_module_version": "1.5.0",
            "_view_name": "HBoxView",
            "box_style": "",
            "children": [
              "IPY_MODEL_c5ed8561c5e348ccb671990b8c82e62f",
              "IPY_MODEL_48bebb1f5a3e435594585269e57dca64",
              "IPY_MODEL_8e54c9c2f5c34c12bb8b42fa8138c8d5"
            ],
            "layout": "IPY_MODEL_e23e6b35c8984a75bcdd5793982fad44"
          }
        },
        "c5ed8561c5e348ccb671990b8c82e62f": {
          "model_module": "@jupyter-widgets/controls",
          "model_name": "HTMLModel",
          "model_module_version": "1.5.0",
          "state": {
            "_dom_classes": [],
            "_model_module": "@jupyter-widgets/controls",
            "_model_module_version": "1.5.0",
            "_model_name": "HTMLModel",
            "_view_count": null,
            "_view_module": "@jupyter-widgets/controls",
            "_view_module_version": "1.5.0",
            "_view_name": "HTMLView",
            "description": "",
            "description_tooltip": null,
            "layout": "IPY_MODEL_398370668aeb4bcb9d24de06420b56f7",
            "placeholder": "​",
            "style": "IPY_MODEL_0c0fcc089f414bdab1d99099f17b4c04",
            "value": "Downloading model.safetensors: 100%"
          }
        },
        "48bebb1f5a3e435594585269e57dca64": {
          "model_module": "@jupyter-widgets/controls",
          "model_name": "FloatProgressModel",
          "model_module_version": "1.5.0",
          "state": {
            "_dom_classes": [],
            "_model_module": "@jupyter-widgets/controls",
            "_model_module_version": "1.5.0",
            "_model_name": "FloatProgressModel",
            "_view_count": null,
            "_view_module": "@jupyter-widgets/controls",
            "_view_module_version": "1.5.0",
            "_view_name": "ProgressView",
            "bar_style": "success",
            "description": "",
            "description_tooltip": null,
            "layout": "IPY_MODEL_ad411427572846bfa18920750c7c4848",
            "max": 440449768,
            "min": 0,
            "orientation": "horizontal",
            "style": "IPY_MODEL_ae3636fd5dd945b3aebce89b5fbf66b0",
            "value": 440449768
          }
        },
        "8e54c9c2f5c34c12bb8b42fa8138c8d5": {
          "model_module": "@jupyter-widgets/controls",
          "model_name": "HTMLModel",
          "model_module_version": "1.5.0",
          "state": {
            "_dom_classes": [],
            "_model_module": "@jupyter-widgets/controls",
            "_model_module_version": "1.5.0",
            "_model_name": "HTMLModel",
            "_view_count": null,
            "_view_module": "@jupyter-widgets/controls",
            "_view_module_version": "1.5.0",
            "_view_name": "HTMLView",
            "description": "",
            "description_tooltip": null,
            "layout": "IPY_MODEL_6fa855ac242440169caf2a9037b0fd37",
            "placeholder": "​",
            "style": "IPY_MODEL_4f275ac567fb4ee8a73714ab4fd98a08",
            "value": " 440M/440M [00:02&lt;00:00, 213MB/s]"
          }
        },
        "e23e6b35c8984a75bcdd5793982fad44": {
          "model_module": "@jupyter-widgets/base",
          "model_name": "LayoutModel",
          "model_module_version": "1.2.0",
          "state": {
            "_model_module": "@jupyter-widgets/base",
            "_model_module_version": "1.2.0",
            "_model_name": "LayoutModel",
            "_view_count": null,
            "_view_module": "@jupyter-widgets/base",
            "_view_module_version": "1.2.0",
            "_view_name": "LayoutView",
            "align_content": null,
            "align_items": null,
            "align_self": null,
            "border": null,
            "bottom": null,
            "display": null,
            "flex": null,
            "flex_flow": null,
            "grid_area": null,
            "grid_auto_columns": null,
            "grid_auto_flow": null,
            "grid_auto_rows": null,
            "grid_column": null,
            "grid_gap": null,
            "grid_row": null,
            "grid_template_areas": null,
            "grid_template_columns": null,
            "grid_template_rows": null,
            "height": null,
            "justify_content": null,
            "justify_items": null,
            "left": null,
            "margin": null,
            "max_height": null,
            "max_width": null,
            "min_height": null,
            "min_width": null,
            "object_fit": null,
            "object_position": null,
            "order": null,
            "overflow": null,
            "overflow_x": null,
            "overflow_y": null,
            "padding": null,
            "right": null,
            "top": null,
            "visibility": null,
            "width": null
          }
        },
        "398370668aeb4bcb9d24de06420b56f7": {
          "model_module": "@jupyter-widgets/base",
          "model_name": "LayoutModel",
          "model_module_version": "1.2.0",
          "state": {
            "_model_module": "@jupyter-widgets/base",
            "_model_module_version": "1.2.0",
            "_model_name": "LayoutModel",
            "_view_count": null,
            "_view_module": "@jupyter-widgets/base",
            "_view_module_version": "1.2.0",
            "_view_name": "LayoutView",
            "align_content": null,
            "align_items": null,
            "align_self": null,
            "border": null,
            "bottom": null,
            "display": null,
            "flex": null,
            "flex_flow": null,
            "grid_area": null,
            "grid_auto_columns": null,
            "grid_auto_flow": null,
            "grid_auto_rows": null,
            "grid_column": null,
            "grid_gap": null,
            "grid_row": null,
            "grid_template_areas": null,
            "grid_template_columns": null,
            "grid_template_rows": null,
            "height": null,
            "justify_content": null,
            "justify_items": null,
            "left": null,
            "margin": null,
            "max_height": null,
            "max_width": null,
            "min_height": null,
            "min_width": null,
            "object_fit": null,
            "object_position": null,
            "order": null,
            "overflow": null,
            "overflow_x": null,
            "overflow_y": null,
            "padding": null,
            "right": null,
            "top": null,
            "visibility": null,
            "width": null
          }
        },
        "0c0fcc089f414bdab1d99099f17b4c04": {
          "model_module": "@jupyter-widgets/controls",
          "model_name": "DescriptionStyleModel",
          "model_module_version": "1.5.0",
          "state": {
            "_model_module": "@jupyter-widgets/controls",
            "_model_module_version": "1.5.0",
            "_model_name": "DescriptionStyleModel",
            "_view_count": null,
            "_view_module": "@jupyter-widgets/base",
            "_view_module_version": "1.2.0",
            "_view_name": "StyleView",
            "description_width": ""
          }
        },
        "ad411427572846bfa18920750c7c4848": {
          "model_module": "@jupyter-widgets/base",
          "model_name": "LayoutModel",
          "model_module_version": "1.2.0",
          "state": {
            "_model_module": "@jupyter-widgets/base",
            "_model_module_version": "1.2.0",
            "_model_name": "LayoutModel",
            "_view_count": null,
            "_view_module": "@jupyter-widgets/base",
            "_view_module_version": "1.2.0",
            "_view_name": "LayoutView",
            "align_content": null,
            "align_items": null,
            "align_self": null,
            "border": null,
            "bottom": null,
            "display": null,
            "flex": null,
            "flex_flow": null,
            "grid_area": null,
            "grid_auto_columns": null,
            "grid_auto_flow": null,
            "grid_auto_rows": null,
            "grid_column": null,
            "grid_gap": null,
            "grid_row": null,
            "grid_template_areas": null,
            "grid_template_columns": null,
            "grid_template_rows": null,
            "height": null,
            "justify_content": null,
            "justify_items": null,
            "left": null,
            "margin": null,
            "max_height": null,
            "max_width": null,
            "min_height": null,
            "min_width": null,
            "object_fit": null,
            "object_position": null,
            "order": null,
            "overflow": null,
            "overflow_x": null,
            "overflow_y": null,
            "padding": null,
            "right": null,
            "top": null,
            "visibility": null,
            "width": null
          }
        },
        "ae3636fd5dd945b3aebce89b5fbf66b0": {
          "model_module": "@jupyter-widgets/controls",
          "model_name": "ProgressStyleModel",
          "model_module_version": "1.5.0",
          "state": {
            "_model_module": "@jupyter-widgets/controls",
            "_model_module_version": "1.5.0",
            "_model_name": "ProgressStyleModel",
            "_view_count": null,
            "_view_module": "@jupyter-widgets/base",
            "_view_module_version": "1.2.0",
            "_view_name": "StyleView",
            "bar_color": null,
            "description_width": ""
          }
        },
        "6fa855ac242440169caf2a9037b0fd37": {
          "model_module": "@jupyter-widgets/base",
          "model_name": "LayoutModel",
          "model_module_version": "1.2.0",
          "state": {
            "_model_module": "@jupyter-widgets/base",
            "_model_module_version": "1.2.0",
            "_model_name": "LayoutModel",
            "_view_count": null,
            "_view_module": "@jupyter-widgets/base",
            "_view_module_version": "1.2.0",
            "_view_name": "LayoutView",
            "align_content": null,
            "align_items": null,
            "align_self": null,
            "border": null,
            "bottom": null,
            "display": null,
            "flex": null,
            "flex_flow": null,
            "grid_area": null,
            "grid_auto_columns": null,
            "grid_auto_flow": null,
            "grid_auto_rows": null,
            "grid_column": null,
            "grid_gap": null,
            "grid_row": null,
            "grid_template_areas": null,
            "grid_template_columns": null,
            "grid_template_rows": null,
            "height": null,
            "justify_content": null,
            "justify_items": null,
            "left": null,
            "margin": null,
            "max_height": null,
            "max_width": null,
            "min_height": null,
            "min_width": null,
            "object_fit": null,
            "object_position": null,
            "order": null,
            "overflow": null,
            "overflow_x": null,
            "overflow_y": null,
            "padding": null,
            "right": null,
            "top": null,
            "visibility": null,
            "width": null
          }
        },
        "4f275ac567fb4ee8a73714ab4fd98a08": {
          "model_module": "@jupyter-widgets/controls",
          "model_name": "DescriptionStyleModel",
          "model_module_version": "1.5.0",
          "state": {
            "_model_module": "@jupyter-widgets/controls",
            "_model_module_version": "1.5.0",
            "_model_name": "DescriptionStyleModel",
            "_view_count": null,
            "_view_module": "@jupyter-widgets/base",
            "_view_module_version": "1.2.0",
            "_view_name": "StyleView",
            "description_width": ""
          }
        },
        "285d8756dfcd462896271b8c128508fa": {
          "model_module": "@jupyter-widgets/controls",
          "model_name": "HBoxModel",
          "model_module_version": "1.5.0",
          "state": {
            "_dom_classes": [],
            "_model_module": "@jupyter-widgets/controls",
            "_model_module_version": "1.5.0",
            "_model_name": "HBoxModel",
            "_view_count": null,
            "_view_module": "@jupyter-widgets/controls",
            "_view_module_version": "1.5.0",
            "_view_name": "HBoxView",
            "box_style": "",
            "children": [
              "IPY_MODEL_ef6d13c6bb7b4e27b0eae46876857af7",
              "IPY_MODEL_c098fa65e9a34d5cbdf6ded6de1eb039",
              "IPY_MODEL_c25575d69c134aa9a66b4fe08c156a0c"
            ],
            "layout": "IPY_MODEL_433fb6c2c69340dc82899467abc62825"
          }
        },
        "ef6d13c6bb7b4e27b0eae46876857af7": {
          "model_module": "@jupyter-widgets/controls",
          "model_name": "HTMLModel",
          "model_module_version": "1.5.0",
          "state": {
            "_dom_classes": [],
            "_model_module": "@jupyter-widgets/controls",
            "_model_module_version": "1.5.0",
            "_model_name": "HTMLModel",
            "_view_count": null,
            "_view_module": "@jupyter-widgets/controls",
            "_view_module_version": "1.5.0",
            "_view_name": "HTMLView",
            "description": "",
            "description_tooltip": null,
            "layout": "IPY_MODEL_4a3f2ae1e3354a80b6ba62f2b620a00e",
            "placeholder": "​",
            "style": "IPY_MODEL_3429118e343c41ee8dc3d6e77f2aee1b",
            "value": "Predicting DataLoader 0: 100%"
          }
        },
        "c098fa65e9a34d5cbdf6ded6de1eb039": {
          "model_module": "@jupyter-widgets/controls",
          "model_name": "FloatProgressModel",
          "model_module_version": "1.5.0",
          "state": {
            "_dom_classes": [],
            "_model_module": "@jupyter-widgets/controls",
            "_model_module_version": "1.5.0",
            "_model_name": "FloatProgressModel",
            "_view_count": null,
            "_view_module": "@jupyter-widgets/controls",
            "_view_module_version": "1.5.0",
            "_view_name": "ProgressView",
            "bar_style": "success",
            "description": "",
            "description_tooltip": null,
            "layout": "IPY_MODEL_b0994b96b97948d3af8253535a932203",
            "max": 157,
            "min": 0,
            "orientation": "horizontal",
            "style": "IPY_MODEL_db57f56ca81c40259c94a7b4dc8042d9",
            "value": 157
          }
        },
        "c25575d69c134aa9a66b4fe08c156a0c": {
          "model_module": "@jupyter-widgets/controls",
          "model_name": "HTMLModel",
          "model_module_version": "1.5.0",
          "state": {
            "_dom_classes": [],
            "_model_module": "@jupyter-widgets/controls",
            "_model_module_version": "1.5.0",
            "_model_name": "HTMLModel",
            "_view_count": null,
            "_view_module": "@jupyter-widgets/controls",
            "_view_module_version": "1.5.0",
            "_view_name": "HTMLView",
            "description": "",
            "description_tooltip": null,
            "layout": "IPY_MODEL_9edceb0711314e239faca577e4ee6475",
            "placeholder": "​",
            "style": "IPY_MODEL_6060fc9e1e9f490a9a9ee5d5aae57955",
            "value": " 157/157 [02:15&lt;00:00,  1.16it/s]"
          }
        },
        "433fb6c2c69340dc82899467abc62825": {
          "model_module": "@jupyter-widgets/base",
          "model_name": "LayoutModel",
          "model_module_version": "1.2.0",
          "state": {
            "_model_module": "@jupyter-widgets/base",
            "_model_module_version": "1.2.0",
            "_model_name": "LayoutModel",
            "_view_count": null,
            "_view_module": "@jupyter-widgets/base",
            "_view_module_version": "1.2.0",
            "_view_name": "LayoutView",
            "align_content": null,
            "align_items": null,
            "align_self": null,
            "border": null,
            "bottom": null,
            "display": "inline-flex",
            "flex": null,
            "flex_flow": "row wrap",
            "grid_area": null,
            "grid_auto_columns": null,
            "grid_auto_flow": null,
            "grid_auto_rows": null,
            "grid_column": null,
            "grid_gap": null,
            "grid_row": null,
            "grid_template_areas": null,
            "grid_template_columns": null,
            "grid_template_rows": null,
            "height": null,
            "justify_content": null,
            "justify_items": null,
            "left": null,
            "margin": null,
            "max_height": null,
            "max_width": null,
            "min_height": null,
            "min_width": null,
            "object_fit": null,
            "object_position": null,
            "order": null,
            "overflow": null,
            "overflow_x": null,
            "overflow_y": null,
            "padding": null,
            "right": null,
            "top": null,
            "visibility": null,
            "width": "100%"
          }
        },
        "4a3f2ae1e3354a80b6ba62f2b620a00e": {
          "model_module": "@jupyter-widgets/base",
          "model_name": "LayoutModel",
          "model_module_version": "1.2.0",
          "state": {
            "_model_module": "@jupyter-widgets/base",
            "_model_module_version": "1.2.0",
            "_model_name": "LayoutModel",
            "_view_count": null,
            "_view_module": "@jupyter-widgets/base",
            "_view_module_version": "1.2.0",
            "_view_name": "LayoutView",
            "align_content": null,
            "align_items": null,
            "align_self": null,
            "border": null,
            "bottom": null,
            "display": null,
            "flex": null,
            "flex_flow": null,
            "grid_area": null,
            "grid_auto_columns": null,
            "grid_auto_flow": null,
            "grid_auto_rows": null,
            "grid_column": null,
            "grid_gap": null,
            "grid_row": null,
            "grid_template_areas": null,
            "grid_template_columns": null,
            "grid_template_rows": null,
            "height": null,
            "justify_content": null,
            "justify_items": null,
            "left": null,
            "margin": null,
            "max_height": null,
            "max_width": null,
            "min_height": null,
            "min_width": null,
            "object_fit": null,
            "object_position": null,
            "order": null,
            "overflow": null,
            "overflow_x": null,
            "overflow_y": null,
            "padding": null,
            "right": null,
            "top": null,
            "visibility": null,
            "width": null
          }
        },
        "3429118e343c41ee8dc3d6e77f2aee1b": {
          "model_module": "@jupyter-widgets/controls",
          "model_name": "DescriptionStyleModel",
          "model_module_version": "1.5.0",
          "state": {
            "_model_module": "@jupyter-widgets/controls",
            "_model_module_version": "1.5.0",
            "_model_name": "DescriptionStyleModel",
            "_view_count": null,
            "_view_module": "@jupyter-widgets/base",
            "_view_module_version": "1.2.0",
            "_view_name": "StyleView",
            "description_width": ""
          }
        },
        "b0994b96b97948d3af8253535a932203": {
          "model_module": "@jupyter-widgets/base",
          "model_name": "LayoutModel",
          "model_module_version": "1.2.0",
          "state": {
            "_model_module": "@jupyter-widgets/base",
            "_model_module_version": "1.2.0",
            "_model_name": "LayoutModel",
            "_view_count": null,
            "_view_module": "@jupyter-widgets/base",
            "_view_module_version": "1.2.0",
            "_view_name": "LayoutView",
            "align_content": null,
            "align_items": null,
            "align_self": null,
            "border": null,
            "bottom": null,
            "display": null,
            "flex": "2",
            "flex_flow": null,
            "grid_area": null,
            "grid_auto_columns": null,
            "grid_auto_flow": null,
            "grid_auto_rows": null,
            "grid_column": null,
            "grid_gap": null,
            "grid_row": null,
            "grid_template_areas": null,
            "grid_template_columns": null,
            "grid_template_rows": null,
            "height": null,
            "justify_content": null,
            "justify_items": null,
            "left": null,
            "margin": null,
            "max_height": null,
            "max_width": null,
            "min_height": null,
            "min_width": null,
            "object_fit": null,
            "object_position": null,
            "order": null,
            "overflow": null,
            "overflow_x": null,
            "overflow_y": null,
            "padding": null,
            "right": null,
            "top": null,
            "visibility": null,
            "width": null
          }
        },
        "db57f56ca81c40259c94a7b4dc8042d9": {
          "model_module": "@jupyter-widgets/controls",
          "model_name": "ProgressStyleModel",
          "model_module_version": "1.5.0",
          "state": {
            "_model_module": "@jupyter-widgets/controls",
            "_model_module_version": "1.5.0",
            "_model_name": "ProgressStyleModel",
            "_view_count": null,
            "_view_module": "@jupyter-widgets/base",
            "_view_module_version": "1.2.0",
            "_view_name": "StyleView",
            "bar_color": null,
            "description_width": ""
          }
        },
        "9edceb0711314e239faca577e4ee6475": {
          "model_module": "@jupyter-widgets/base",
          "model_name": "LayoutModel",
          "model_module_version": "1.2.0",
          "state": {
            "_model_module": "@jupyter-widgets/base",
            "_model_module_version": "1.2.0",
            "_model_name": "LayoutModel",
            "_view_count": null,
            "_view_module": "@jupyter-widgets/base",
            "_view_module_version": "1.2.0",
            "_view_name": "LayoutView",
            "align_content": null,
            "align_items": null,
            "align_self": null,
            "border": null,
            "bottom": null,
            "display": null,
            "flex": null,
            "flex_flow": null,
            "grid_area": null,
            "grid_auto_columns": null,
            "grid_auto_flow": null,
            "grid_auto_rows": null,
            "grid_column": null,
            "grid_gap": null,
            "grid_row": null,
            "grid_template_areas": null,
            "grid_template_columns": null,
            "grid_template_rows": null,
            "height": null,
            "justify_content": null,
            "justify_items": null,
            "left": null,
            "margin": null,
            "max_height": null,
            "max_width": null,
            "min_height": null,
            "min_width": null,
            "object_fit": null,
            "object_position": null,
            "order": null,
            "overflow": null,
            "overflow_x": null,
            "overflow_y": null,
            "padding": null,
            "right": null,
            "top": null,
            "visibility": null,
            "width": null
          }
        },
        "6060fc9e1e9f490a9a9ee5d5aae57955": {
          "model_module": "@jupyter-widgets/controls",
          "model_name": "DescriptionStyleModel",
          "model_module_version": "1.5.0",
          "state": {
            "_model_module": "@jupyter-widgets/controls",
            "_model_module_version": "1.5.0",
            "_model_name": "DescriptionStyleModel",
            "_view_count": null,
            "_view_module": "@jupyter-widgets/base",
            "_view_module_version": "1.2.0",
            "_view_name": "StyleView",
            "description_width": ""
          }
        },
        "cc2f731853774a39b5d6cc7ffe29c032": {
          "model_module": "@jupyter-widgets/controls",
          "model_name": "HBoxModel",
          "model_module_version": "1.5.0",
          "state": {
            "_dom_classes": [],
            "_model_module": "@jupyter-widgets/controls",
            "_model_module_version": "1.5.0",
            "_model_name": "HBoxModel",
            "_view_count": null,
            "_view_module": "@jupyter-widgets/controls",
            "_view_module_version": "1.5.0",
            "_view_name": "HBoxView",
            "box_style": "",
            "children": [
              "IPY_MODEL_78a67a3656d848cab85025224799126f",
              "IPY_MODEL_6a2649c9c7cf4c39a724baadc3e3711e",
              "IPY_MODEL_476d934a160745afbb95db86e3db801a"
            ],
            "layout": "IPY_MODEL_74de49eab39d44e9b379c4dfc4565e72"
          }
        },
        "78a67a3656d848cab85025224799126f": {
          "model_module": "@jupyter-widgets/controls",
          "model_name": "HTMLModel",
          "model_module_version": "1.5.0",
          "state": {
            "_dom_classes": [],
            "_model_module": "@jupyter-widgets/controls",
            "_model_module_version": "1.5.0",
            "_model_name": "HTMLModel",
            "_view_count": null,
            "_view_module": "@jupyter-widgets/controls",
            "_view_module_version": "1.5.0",
            "_view_name": "HTMLView",
            "description": "",
            "description_tooltip": null,
            "layout": "IPY_MODEL_139eb96c2abc408e850bd8dc50032434",
            "placeholder": "​",
            "style": "IPY_MODEL_c57a7430ed0c43259fa4b5e894d8b5ff",
            "value": "Downloading (…)okenizer_config.json: 100%"
          }
        },
        "6a2649c9c7cf4c39a724baadc3e3711e": {
          "model_module": "@jupyter-widgets/controls",
          "model_name": "FloatProgressModel",
          "model_module_version": "1.5.0",
          "state": {
            "_dom_classes": [],
            "_model_module": "@jupyter-widgets/controls",
            "_model_module_version": "1.5.0",
            "_model_name": "FloatProgressModel",
            "_view_count": null,
            "_view_module": "@jupyter-widgets/controls",
            "_view_module_version": "1.5.0",
            "_view_name": "ProgressView",
            "bar_style": "success",
            "description": "",
            "description_tooltip": null,
            "layout": "IPY_MODEL_aea2795438fb4543ab634b472beefcf1",
            "max": 28,
            "min": 0,
            "orientation": "horizontal",
            "style": "IPY_MODEL_362896555dca419c8fd2663f37be88bf",
            "value": 28
          }
        },
        "476d934a160745afbb95db86e3db801a": {
          "model_module": "@jupyter-widgets/controls",
          "model_name": "HTMLModel",
          "model_module_version": "1.5.0",
          "state": {
            "_dom_classes": [],
            "_model_module": "@jupyter-widgets/controls",
            "_model_module_version": "1.5.0",
            "_model_name": "HTMLModel",
            "_view_count": null,
            "_view_module": "@jupyter-widgets/controls",
            "_view_module_version": "1.5.0",
            "_view_name": "HTMLView",
            "description": "",
            "description_tooltip": null,
            "layout": "IPY_MODEL_01cc324be9ef44828738cdf7950b6563",
            "placeholder": "​",
            "style": "IPY_MODEL_7717e0215668444897966e2ed95f0307",
            "value": " 28.0/28.0 [00:00&lt;00:00, 1.77kB/s]"
          }
        },
        "74de49eab39d44e9b379c4dfc4565e72": {
          "model_module": "@jupyter-widgets/base",
          "model_name": "LayoutModel",
          "model_module_version": "1.2.0",
          "state": {
            "_model_module": "@jupyter-widgets/base",
            "_model_module_version": "1.2.0",
            "_model_name": "LayoutModel",
            "_view_count": null,
            "_view_module": "@jupyter-widgets/base",
            "_view_module_version": "1.2.0",
            "_view_name": "LayoutView",
            "align_content": null,
            "align_items": null,
            "align_self": null,
            "border": null,
            "bottom": null,
            "display": null,
            "flex": null,
            "flex_flow": null,
            "grid_area": null,
            "grid_auto_columns": null,
            "grid_auto_flow": null,
            "grid_auto_rows": null,
            "grid_column": null,
            "grid_gap": null,
            "grid_row": null,
            "grid_template_areas": null,
            "grid_template_columns": null,
            "grid_template_rows": null,
            "height": null,
            "justify_content": null,
            "justify_items": null,
            "left": null,
            "margin": null,
            "max_height": null,
            "max_width": null,
            "min_height": null,
            "min_width": null,
            "object_fit": null,
            "object_position": null,
            "order": null,
            "overflow": null,
            "overflow_x": null,
            "overflow_y": null,
            "padding": null,
            "right": null,
            "top": null,
            "visibility": null,
            "width": null
          }
        },
        "139eb96c2abc408e850bd8dc50032434": {
          "model_module": "@jupyter-widgets/base",
          "model_name": "LayoutModel",
          "model_module_version": "1.2.0",
          "state": {
            "_model_module": "@jupyter-widgets/base",
            "_model_module_version": "1.2.0",
            "_model_name": "LayoutModel",
            "_view_count": null,
            "_view_module": "@jupyter-widgets/base",
            "_view_module_version": "1.2.0",
            "_view_name": "LayoutView",
            "align_content": null,
            "align_items": null,
            "align_self": null,
            "border": null,
            "bottom": null,
            "display": null,
            "flex": null,
            "flex_flow": null,
            "grid_area": null,
            "grid_auto_columns": null,
            "grid_auto_flow": null,
            "grid_auto_rows": null,
            "grid_column": null,
            "grid_gap": null,
            "grid_row": null,
            "grid_template_areas": null,
            "grid_template_columns": null,
            "grid_template_rows": null,
            "height": null,
            "justify_content": null,
            "justify_items": null,
            "left": null,
            "margin": null,
            "max_height": null,
            "max_width": null,
            "min_height": null,
            "min_width": null,
            "object_fit": null,
            "object_position": null,
            "order": null,
            "overflow": null,
            "overflow_x": null,
            "overflow_y": null,
            "padding": null,
            "right": null,
            "top": null,
            "visibility": null,
            "width": null
          }
        },
        "c57a7430ed0c43259fa4b5e894d8b5ff": {
          "model_module": "@jupyter-widgets/controls",
          "model_name": "DescriptionStyleModel",
          "model_module_version": "1.5.0",
          "state": {
            "_model_module": "@jupyter-widgets/controls",
            "_model_module_version": "1.5.0",
            "_model_name": "DescriptionStyleModel",
            "_view_count": null,
            "_view_module": "@jupyter-widgets/base",
            "_view_module_version": "1.2.0",
            "_view_name": "StyleView",
            "description_width": ""
          }
        },
        "aea2795438fb4543ab634b472beefcf1": {
          "model_module": "@jupyter-widgets/base",
          "model_name": "LayoutModel",
          "model_module_version": "1.2.0",
          "state": {
            "_model_module": "@jupyter-widgets/base",
            "_model_module_version": "1.2.0",
            "_model_name": "LayoutModel",
            "_view_count": null,
            "_view_module": "@jupyter-widgets/base",
            "_view_module_version": "1.2.0",
            "_view_name": "LayoutView",
            "align_content": null,
            "align_items": null,
            "align_self": null,
            "border": null,
            "bottom": null,
            "display": null,
            "flex": null,
            "flex_flow": null,
            "grid_area": null,
            "grid_auto_columns": null,
            "grid_auto_flow": null,
            "grid_auto_rows": null,
            "grid_column": null,
            "grid_gap": null,
            "grid_row": null,
            "grid_template_areas": null,
            "grid_template_columns": null,
            "grid_template_rows": null,
            "height": null,
            "justify_content": null,
            "justify_items": null,
            "left": null,
            "margin": null,
            "max_height": null,
            "max_width": null,
            "min_height": null,
            "min_width": null,
            "object_fit": null,
            "object_position": null,
            "order": null,
            "overflow": null,
            "overflow_x": null,
            "overflow_y": null,
            "padding": null,
            "right": null,
            "top": null,
            "visibility": null,
            "width": null
          }
        },
        "362896555dca419c8fd2663f37be88bf": {
          "model_module": "@jupyter-widgets/controls",
          "model_name": "ProgressStyleModel",
          "model_module_version": "1.5.0",
          "state": {
            "_model_module": "@jupyter-widgets/controls",
            "_model_module_version": "1.5.0",
            "_model_name": "ProgressStyleModel",
            "_view_count": null,
            "_view_module": "@jupyter-widgets/base",
            "_view_module_version": "1.2.0",
            "_view_name": "StyleView",
            "bar_color": null,
            "description_width": ""
          }
        },
        "01cc324be9ef44828738cdf7950b6563": {
          "model_module": "@jupyter-widgets/base",
          "model_name": "LayoutModel",
          "model_module_version": "1.2.0",
          "state": {
            "_model_module": "@jupyter-widgets/base",
            "_model_module_version": "1.2.0",
            "_model_name": "LayoutModel",
            "_view_count": null,
            "_view_module": "@jupyter-widgets/base",
            "_view_module_version": "1.2.0",
            "_view_name": "LayoutView",
            "align_content": null,
            "align_items": null,
            "align_self": null,
            "border": null,
            "bottom": null,
            "display": null,
            "flex": null,
            "flex_flow": null,
            "grid_area": null,
            "grid_auto_columns": null,
            "grid_auto_flow": null,
            "grid_auto_rows": null,
            "grid_column": null,
            "grid_gap": null,
            "grid_row": null,
            "grid_template_areas": null,
            "grid_template_columns": null,
            "grid_template_rows": null,
            "height": null,
            "justify_content": null,
            "justify_items": null,
            "left": null,
            "margin": null,
            "max_height": null,
            "max_width": null,
            "min_height": null,
            "min_width": null,
            "object_fit": null,
            "object_position": null,
            "order": null,
            "overflow": null,
            "overflow_x": null,
            "overflow_y": null,
            "padding": null,
            "right": null,
            "top": null,
            "visibility": null,
            "width": null
          }
        },
        "7717e0215668444897966e2ed95f0307": {
          "model_module": "@jupyter-widgets/controls",
          "model_name": "DescriptionStyleModel",
          "model_module_version": "1.5.0",
          "state": {
            "_model_module": "@jupyter-widgets/controls",
            "_model_module_version": "1.5.0",
            "_model_name": "DescriptionStyleModel",
            "_view_count": null,
            "_view_module": "@jupyter-widgets/base",
            "_view_module_version": "1.2.0",
            "_view_name": "StyleView",
            "description_width": ""
          }
        },
        "e42e150165e14e898fdba672874b27bf": {
          "model_module": "@jupyter-widgets/controls",
          "model_name": "HBoxModel",
          "model_module_version": "1.5.0",
          "state": {
            "_dom_classes": [],
            "_model_module": "@jupyter-widgets/controls",
            "_model_module_version": "1.5.0",
            "_model_name": "HBoxModel",
            "_view_count": null,
            "_view_module": "@jupyter-widgets/controls",
            "_view_module_version": "1.5.0",
            "_view_name": "HBoxView",
            "box_style": "",
            "children": [
              "IPY_MODEL_97c542c384aa407e868201ed8dba80d9",
              "IPY_MODEL_165df83b2eb24393955acb97929c23ff",
              "IPY_MODEL_87ec264b787c4bc2b5560daeba6e3d3d"
            ],
            "layout": "IPY_MODEL_579141a206144b06b694e31070e70bed"
          }
        },
        "97c542c384aa407e868201ed8dba80d9": {
          "model_module": "@jupyter-widgets/controls",
          "model_name": "HTMLModel",
          "model_module_version": "1.5.0",
          "state": {
            "_dom_classes": [],
            "_model_module": "@jupyter-widgets/controls",
            "_model_module_version": "1.5.0",
            "_model_name": "HTMLModel",
            "_view_count": null,
            "_view_module": "@jupyter-widgets/controls",
            "_view_module_version": "1.5.0",
            "_view_name": "HTMLView",
            "description": "",
            "description_tooltip": null,
            "layout": "IPY_MODEL_e3bb2ee571c54572af857c18790586bd",
            "placeholder": "​",
            "style": "IPY_MODEL_6ed6c557f6a641c7ba6ac1729e48c380",
            "value": "Downloading (…)solve/main/vocab.txt: 100%"
          }
        },
        "165df83b2eb24393955acb97929c23ff": {
          "model_module": "@jupyter-widgets/controls",
          "model_name": "FloatProgressModel",
          "model_module_version": "1.5.0",
          "state": {
            "_dom_classes": [],
            "_model_module": "@jupyter-widgets/controls",
            "_model_module_version": "1.5.0",
            "_model_name": "FloatProgressModel",
            "_view_count": null,
            "_view_module": "@jupyter-widgets/controls",
            "_view_module_version": "1.5.0",
            "_view_name": "ProgressView",
            "bar_style": "success",
            "description": "",
            "description_tooltip": null,
            "layout": "IPY_MODEL_416d8c32e4154d55a5d907170c67dc33",
            "max": 231508,
            "min": 0,
            "orientation": "horizontal",
            "style": "IPY_MODEL_15fe61824f9747b2925ded1d321b8cd9",
            "value": 231508
          }
        },
        "87ec264b787c4bc2b5560daeba6e3d3d": {
          "model_module": "@jupyter-widgets/controls",
          "model_name": "HTMLModel",
          "model_module_version": "1.5.0",
          "state": {
            "_dom_classes": [],
            "_model_module": "@jupyter-widgets/controls",
            "_model_module_version": "1.5.0",
            "_model_name": "HTMLModel",
            "_view_count": null,
            "_view_module": "@jupyter-widgets/controls",
            "_view_module_version": "1.5.0",
            "_view_name": "HTMLView",
            "description": "",
            "description_tooltip": null,
            "layout": "IPY_MODEL_0780f5861b6348f9b548d92737969f37",
            "placeholder": "​",
            "style": "IPY_MODEL_2afecaaa87f5435f99306f96170cb9ad",
            "value": " 232k/232k [00:00&lt;00:00, 12.4MB/s]"
          }
        },
        "579141a206144b06b694e31070e70bed": {
          "model_module": "@jupyter-widgets/base",
          "model_name": "LayoutModel",
          "model_module_version": "1.2.0",
          "state": {
            "_model_module": "@jupyter-widgets/base",
            "_model_module_version": "1.2.0",
            "_model_name": "LayoutModel",
            "_view_count": null,
            "_view_module": "@jupyter-widgets/base",
            "_view_module_version": "1.2.0",
            "_view_name": "LayoutView",
            "align_content": null,
            "align_items": null,
            "align_self": null,
            "border": null,
            "bottom": null,
            "display": null,
            "flex": null,
            "flex_flow": null,
            "grid_area": null,
            "grid_auto_columns": null,
            "grid_auto_flow": null,
            "grid_auto_rows": null,
            "grid_column": null,
            "grid_gap": null,
            "grid_row": null,
            "grid_template_areas": null,
            "grid_template_columns": null,
            "grid_template_rows": null,
            "height": null,
            "justify_content": null,
            "justify_items": null,
            "left": null,
            "margin": null,
            "max_height": null,
            "max_width": null,
            "min_height": null,
            "min_width": null,
            "object_fit": null,
            "object_position": null,
            "order": null,
            "overflow": null,
            "overflow_x": null,
            "overflow_y": null,
            "padding": null,
            "right": null,
            "top": null,
            "visibility": null,
            "width": null
          }
        },
        "e3bb2ee571c54572af857c18790586bd": {
          "model_module": "@jupyter-widgets/base",
          "model_name": "LayoutModel",
          "model_module_version": "1.2.0",
          "state": {
            "_model_module": "@jupyter-widgets/base",
            "_model_module_version": "1.2.0",
            "_model_name": "LayoutModel",
            "_view_count": null,
            "_view_module": "@jupyter-widgets/base",
            "_view_module_version": "1.2.0",
            "_view_name": "LayoutView",
            "align_content": null,
            "align_items": null,
            "align_self": null,
            "border": null,
            "bottom": null,
            "display": null,
            "flex": null,
            "flex_flow": null,
            "grid_area": null,
            "grid_auto_columns": null,
            "grid_auto_flow": null,
            "grid_auto_rows": null,
            "grid_column": null,
            "grid_gap": null,
            "grid_row": null,
            "grid_template_areas": null,
            "grid_template_columns": null,
            "grid_template_rows": null,
            "height": null,
            "justify_content": null,
            "justify_items": null,
            "left": null,
            "margin": null,
            "max_height": null,
            "max_width": null,
            "min_height": null,
            "min_width": null,
            "object_fit": null,
            "object_position": null,
            "order": null,
            "overflow": null,
            "overflow_x": null,
            "overflow_y": null,
            "padding": null,
            "right": null,
            "top": null,
            "visibility": null,
            "width": null
          }
        },
        "6ed6c557f6a641c7ba6ac1729e48c380": {
          "model_module": "@jupyter-widgets/controls",
          "model_name": "DescriptionStyleModel",
          "model_module_version": "1.5.0",
          "state": {
            "_model_module": "@jupyter-widgets/controls",
            "_model_module_version": "1.5.0",
            "_model_name": "DescriptionStyleModel",
            "_view_count": null,
            "_view_module": "@jupyter-widgets/base",
            "_view_module_version": "1.2.0",
            "_view_name": "StyleView",
            "description_width": ""
          }
        },
        "416d8c32e4154d55a5d907170c67dc33": {
          "model_module": "@jupyter-widgets/base",
          "model_name": "LayoutModel",
          "model_module_version": "1.2.0",
          "state": {
            "_model_module": "@jupyter-widgets/base",
            "_model_module_version": "1.2.0",
            "_model_name": "LayoutModel",
            "_view_count": null,
            "_view_module": "@jupyter-widgets/base",
            "_view_module_version": "1.2.0",
            "_view_name": "LayoutView",
            "align_content": null,
            "align_items": null,
            "align_self": null,
            "border": null,
            "bottom": null,
            "display": null,
            "flex": null,
            "flex_flow": null,
            "grid_area": null,
            "grid_auto_columns": null,
            "grid_auto_flow": null,
            "grid_auto_rows": null,
            "grid_column": null,
            "grid_gap": null,
            "grid_row": null,
            "grid_template_areas": null,
            "grid_template_columns": null,
            "grid_template_rows": null,
            "height": null,
            "justify_content": null,
            "justify_items": null,
            "left": null,
            "margin": null,
            "max_height": null,
            "max_width": null,
            "min_height": null,
            "min_width": null,
            "object_fit": null,
            "object_position": null,
            "order": null,
            "overflow": null,
            "overflow_x": null,
            "overflow_y": null,
            "padding": null,
            "right": null,
            "top": null,
            "visibility": null,
            "width": null
          }
        },
        "15fe61824f9747b2925ded1d321b8cd9": {
          "model_module": "@jupyter-widgets/controls",
          "model_name": "ProgressStyleModel",
          "model_module_version": "1.5.0",
          "state": {
            "_model_module": "@jupyter-widgets/controls",
            "_model_module_version": "1.5.0",
            "_model_name": "ProgressStyleModel",
            "_view_count": null,
            "_view_module": "@jupyter-widgets/base",
            "_view_module_version": "1.2.0",
            "_view_name": "StyleView",
            "bar_color": null,
            "description_width": ""
          }
        },
        "0780f5861b6348f9b548d92737969f37": {
          "model_module": "@jupyter-widgets/base",
          "model_name": "LayoutModel",
          "model_module_version": "1.2.0",
          "state": {
            "_model_module": "@jupyter-widgets/base",
            "_model_module_version": "1.2.0",
            "_model_name": "LayoutModel",
            "_view_count": null,
            "_view_module": "@jupyter-widgets/base",
            "_view_module_version": "1.2.0",
            "_view_name": "LayoutView",
            "align_content": null,
            "align_items": null,
            "align_self": null,
            "border": null,
            "bottom": null,
            "display": null,
            "flex": null,
            "flex_flow": null,
            "grid_area": null,
            "grid_auto_columns": null,
            "grid_auto_flow": null,
            "grid_auto_rows": null,
            "grid_column": null,
            "grid_gap": null,
            "grid_row": null,
            "grid_template_areas": null,
            "grid_template_columns": null,
            "grid_template_rows": null,
            "height": null,
            "justify_content": null,
            "justify_items": null,
            "left": null,
            "margin": null,
            "max_height": null,
            "max_width": null,
            "min_height": null,
            "min_width": null,
            "object_fit": null,
            "object_position": null,
            "order": null,
            "overflow": null,
            "overflow_x": null,
            "overflow_y": null,
            "padding": null,
            "right": null,
            "top": null,
            "visibility": null,
            "width": null
          }
        },
        "2afecaaa87f5435f99306f96170cb9ad": {
          "model_module": "@jupyter-widgets/controls",
          "model_name": "DescriptionStyleModel",
          "model_module_version": "1.5.0",
          "state": {
            "_model_module": "@jupyter-widgets/controls",
            "_model_module_version": "1.5.0",
            "_model_name": "DescriptionStyleModel",
            "_view_count": null,
            "_view_module": "@jupyter-widgets/base",
            "_view_module_version": "1.2.0",
            "_view_name": "StyleView",
            "description_width": ""
          }
        },
        "b80c4b06763c4969a2acf0f4b7d8a1d4": {
          "model_module": "@jupyter-widgets/controls",
          "model_name": "HBoxModel",
          "model_module_version": "1.5.0",
          "state": {
            "_dom_classes": [],
            "_model_module": "@jupyter-widgets/controls",
            "_model_module_version": "1.5.0",
            "_model_name": "HBoxModel",
            "_view_count": null,
            "_view_module": "@jupyter-widgets/controls",
            "_view_module_version": "1.5.0",
            "_view_name": "HBoxView",
            "box_style": "",
            "children": [
              "IPY_MODEL_9a6a840448be400f81053a787b0ab310",
              "IPY_MODEL_18b8c1cf04ab4a5083f457a4eb067254",
              "IPY_MODEL_00078bf8927a4dab967b980af7d1ab20"
            ],
            "layout": "IPY_MODEL_e8b6d8edb744408da5ad215b5a6bc3c9"
          }
        },
        "9a6a840448be400f81053a787b0ab310": {
          "model_module": "@jupyter-widgets/controls",
          "model_name": "HTMLModel",
          "model_module_version": "1.5.0",
          "state": {
            "_dom_classes": [],
            "_model_module": "@jupyter-widgets/controls",
            "_model_module_version": "1.5.0",
            "_model_name": "HTMLModel",
            "_view_count": null,
            "_view_module": "@jupyter-widgets/controls",
            "_view_module_version": "1.5.0",
            "_view_name": "HTMLView",
            "description": "",
            "description_tooltip": null,
            "layout": "IPY_MODEL_54bcc69c86dd4c4aaf9028cee8c5deba",
            "placeholder": "​",
            "style": "IPY_MODEL_c81b04bff8204453842a484cf384ec05",
            "value": "Downloading (…)/main/tokenizer.json: 100%"
          }
        },
        "18b8c1cf04ab4a5083f457a4eb067254": {
          "model_module": "@jupyter-widgets/controls",
          "model_name": "FloatProgressModel",
          "model_module_version": "1.5.0",
          "state": {
            "_dom_classes": [],
            "_model_module": "@jupyter-widgets/controls",
            "_model_module_version": "1.5.0",
            "_model_name": "FloatProgressModel",
            "_view_count": null,
            "_view_module": "@jupyter-widgets/controls",
            "_view_module_version": "1.5.0",
            "_view_name": "ProgressView",
            "bar_style": "success",
            "description": "",
            "description_tooltip": null,
            "layout": "IPY_MODEL_a1db709090c648a9800884d197512f50",
            "max": 466062,
            "min": 0,
            "orientation": "horizontal",
            "style": "IPY_MODEL_8e9882e6e9884914b46f720c3fe951e2",
            "value": 466062
          }
        },
        "00078bf8927a4dab967b980af7d1ab20": {
          "model_module": "@jupyter-widgets/controls",
          "model_name": "HTMLModel",
          "model_module_version": "1.5.0",
          "state": {
            "_dom_classes": [],
            "_model_module": "@jupyter-widgets/controls",
            "_model_module_version": "1.5.0",
            "_model_name": "HTMLModel",
            "_view_count": null,
            "_view_module": "@jupyter-widgets/controls",
            "_view_module_version": "1.5.0",
            "_view_name": "HTMLView",
            "description": "",
            "description_tooltip": null,
            "layout": "IPY_MODEL_e4a3242991554c5e910ed16749fa27a8",
            "placeholder": "​",
            "style": "IPY_MODEL_bef15bea9fbf4139ba7811d7310e67eb",
            "value": " 466k/466k [00:00&lt;00:00, 634kB/s]"
          }
        },
        "e8b6d8edb744408da5ad215b5a6bc3c9": {
          "model_module": "@jupyter-widgets/base",
          "model_name": "LayoutModel",
          "model_module_version": "1.2.0",
          "state": {
            "_model_module": "@jupyter-widgets/base",
            "_model_module_version": "1.2.0",
            "_model_name": "LayoutModel",
            "_view_count": null,
            "_view_module": "@jupyter-widgets/base",
            "_view_module_version": "1.2.0",
            "_view_name": "LayoutView",
            "align_content": null,
            "align_items": null,
            "align_self": null,
            "border": null,
            "bottom": null,
            "display": null,
            "flex": null,
            "flex_flow": null,
            "grid_area": null,
            "grid_auto_columns": null,
            "grid_auto_flow": null,
            "grid_auto_rows": null,
            "grid_column": null,
            "grid_gap": null,
            "grid_row": null,
            "grid_template_areas": null,
            "grid_template_columns": null,
            "grid_template_rows": null,
            "height": null,
            "justify_content": null,
            "justify_items": null,
            "left": null,
            "margin": null,
            "max_height": null,
            "max_width": null,
            "min_height": null,
            "min_width": null,
            "object_fit": null,
            "object_position": null,
            "order": null,
            "overflow": null,
            "overflow_x": null,
            "overflow_y": null,
            "padding": null,
            "right": null,
            "top": null,
            "visibility": null,
            "width": null
          }
        },
        "54bcc69c86dd4c4aaf9028cee8c5deba": {
          "model_module": "@jupyter-widgets/base",
          "model_name": "LayoutModel",
          "model_module_version": "1.2.0",
          "state": {
            "_model_module": "@jupyter-widgets/base",
            "_model_module_version": "1.2.0",
            "_model_name": "LayoutModel",
            "_view_count": null,
            "_view_module": "@jupyter-widgets/base",
            "_view_module_version": "1.2.0",
            "_view_name": "LayoutView",
            "align_content": null,
            "align_items": null,
            "align_self": null,
            "border": null,
            "bottom": null,
            "display": null,
            "flex": null,
            "flex_flow": null,
            "grid_area": null,
            "grid_auto_columns": null,
            "grid_auto_flow": null,
            "grid_auto_rows": null,
            "grid_column": null,
            "grid_gap": null,
            "grid_row": null,
            "grid_template_areas": null,
            "grid_template_columns": null,
            "grid_template_rows": null,
            "height": null,
            "justify_content": null,
            "justify_items": null,
            "left": null,
            "margin": null,
            "max_height": null,
            "max_width": null,
            "min_height": null,
            "min_width": null,
            "object_fit": null,
            "object_position": null,
            "order": null,
            "overflow": null,
            "overflow_x": null,
            "overflow_y": null,
            "padding": null,
            "right": null,
            "top": null,
            "visibility": null,
            "width": null
          }
        },
        "c81b04bff8204453842a484cf384ec05": {
          "model_module": "@jupyter-widgets/controls",
          "model_name": "DescriptionStyleModel",
          "model_module_version": "1.5.0",
          "state": {
            "_model_module": "@jupyter-widgets/controls",
            "_model_module_version": "1.5.0",
            "_model_name": "DescriptionStyleModel",
            "_view_count": null,
            "_view_module": "@jupyter-widgets/base",
            "_view_module_version": "1.2.0",
            "_view_name": "StyleView",
            "description_width": ""
          }
        },
        "a1db709090c648a9800884d197512f50": {
          "model_module": "@jupyter-widgets/base",
          "model_name": "LayoutModel",
          "model_module_version": "1.2.0",
          "state": {
            "_model_module": "@jupyter-widgets/base",
            "_model_module_version": "1.2.0",
            "_model_name": "LayoutModel",
            "_view_count": null,
            "_view_module": "@jupyter-widgets/base",
            "_view_module_version": "1.2.0",
            "_view_name": "LayoutView",
            "align_content": null,
            "align_items": null,
            "align_self": null,
            "border": null,
            "bottom": null,
            "display": null,
            "flex": null,
            "flex_flow": null,
            "grid_area": null,
            "grid_auto_columns": null,
            "grid_auto_flow": null,
            "grid_auto_rows": null,
            "grid_column": null,
            "grid_gap": null,
            "grid_row": null,
            "grid_template_areas": null,
            "grid_template_columns": null,
            "grid_template_rows": null,
            "height": null,
            "justify_content": null,
            "justify_items": null,
            "left": null,
            "margin": null,
            "max_height": null,
            "max_width": null,
            "min_height": null,
            "min_width": null,
            "object_fit": null,
            "object_position": null,
            "order": null,
            "overflow": null,
            "overflow_x": null,
            "overflow_y": null,
            "padding": null,
            "right": null,
            "top": null,
            "visibility": null,
            "width": null
          }
        },
        "8e9882e6e9884914b46f720c3fe951e2": {
          "model_module": "@jupyter-widgets/controls",
          "model_name": "ProgressStyleModel",
          "model_module_version": "1.5.0",
          "state": {
            "_model_module": "@jupyter-widgets/controls",
            "_model_module_version": "1.5.0",
            "_model_name": "ProgressStyleModel",
            "_view_count": null,
            "_view_module": "@jupyter-widgets/base",
            "_view_module_version": "1.2.0",
            "_view_name": "StyleView",
            "bar_color": null,
            "description_width": ""
          }
        },
        "e4a3242991554c5e910ed16749fa27a8": {
          "model_module": "@jupyter-widgets/base",
          "model_name": "LayoutModel",
          "model_module_version": "1.2.0",
          "state": {
            "_model_module": "@jupyter-widgets/base",
            "_model_module_version": "1.2.0",
            "_model_name": "LayoutModel",
            "_view_count": null,
            "_view_module": "@jupyter-widgets/base",
            "_view_module_version": "1.2.0",
            "_view_name": "LayoutView",
            "align_content": null,
            "align_items": null,
            "align_self": null,
            "border": null,
            "bottom": null,
            "display": null,
            "flex": null,
            "flex_flow": null,
            "grid_area": null,
            "grid_auto_columns": null,
            "grid_auto_flow": null,
            "grid_auto_rows": null,
            "grid_column": null,
            "grid_gap": null,
            "grid_row": null,
            "grid_template_areas": null,
            "grid_template_columns": null,
            "grid_template_rows": null,
            "height": null,
            "justify_content": null,
            "justify_items": null,
            "left": null,
            "margin": null,
            "max_height": null,
            "max_width": null,
            "min_height": null,
            "min_width": null,
            "object_fit": null,
            "object_position": null,
            "order": null,
            "overflow": null,
            "overflow_x": null,
            "overflow_y": null,
            "padding": null,
            "right": null,
            "top": null,
            "visibility": null,
            "width": null
          }
        },
        "bef15bea9fbf4139ba7811d7310e67eb": {
          "model_module": "@jupyter-widgets/controls",
          "model_name": "DescriptionStyleModel",
          "model_module_version": "1.5.0",
          "state": {
            "_model_module": "@jupyter-widgets/controls",
            "_model_module_version": "1.5.0",
            "_model_name": "DescriptionStyleModel",
            "_view_count": null,
            "_view_module": "@jupyter-widgets/base",
            "_view_module_version": "1.2.0",
            "_view_name": "StyleView",
            "description_width": ""
          }
        }
      }
    }
  },
  "cells": [
    {
      "cell_type": "markdown",
      "source": [
        "# 1. Installation of required packages"
      ],
      "metadata": {
        "id": "akOS2EP49Qly"
      }
    },
    {
      "cell_type": "code",
      "source": [
        "! pip install transformers==4.32.0 torch==1.11.0 scikit-learn==1.1.3 pytorch_lightning==1.7.2 dotmap==1.3.30 ir-measures==0.3.1 torchmetrics==0.11.4 torchtext==0.12.0 redis==5.0.0"
      ],
      "metadata": {
        "colab": {
          "base_uri": "https://localhost:8080/"
        },
        "id": "nFxpFsUa4tQY",
        "outputId": "0f321dc4-d1f2-45d8-d9d0-576af4fe36d1"
      },
      "execution_count": 1,
      "outputs": [
        {
          "output_type": "stream",
          "name": "stdout",
          "text": [
            "Collecting transformers==4.32.0\n",
            "  Downloading transformers-4.32.0-py3-none-any.whl (7.5 MB)\n",
            "\u001b[2K     \u001b[90m━━━━━━━━━━━━━━━━━━━━━━━━━━━━━━━━━━━━━━━━\u001b[0m \u001b[32m7.5/7.5 MB\u001b[0m \u001b[31m60.2 MB/s\u001b[0m eta \u001b[36m0:00:00\u001b[0m\n",
            "\u001b[?25hCollecting torch==1.11.0\n",
            "  Downloading torch-1.11.0-cp310-cp310-manylinux1_x86_64.whl (750.6 MB)\n",
            "\u001b[2K     \u001b[90m━━━━━━━━━━━━━━━━━━━━━━━━━━━━━━━━━━━━━━━\u001b[0m \u001b[32m750.6/750.6 MB\u001b[0m \u001b[31m2.1 MB/s\u001b[0m eta \u001b[36m0:00:00\u001b[0m\n",
            "\u001b[?25hCollecting scikit-learn==1.1.3\n",
            "  Downloading scikit_learn-1.1.3-cp310-cp310-manylinux_2_17_x86_64.manylinux2014_x86_64.whl (30.5 MB)\n",
            "\u001b[2K     \u001b[90m━━━━━━━━━━━━━━━━━━━━━━━━━━━━━━━━━━━━━━━━\u001b[0m \u001b[32m30.5/30.5 MB\u001b[0m \u001b[31m42.7 MB/s\u001b[0m eta \u001b[36m0:00:00\u001b[0m\n",
            "\u001b[?25hCollecting pytorch_lightning==1.7.2\n",
            "  Downloading pytorch_lightning-1.7.2-py3-none-any.whl (705 kB)\n",
            "\u001b[2K     \u001b[90m━━━━━━━━━━━━━━━━━━━━━━━━━━━━━━━━━━━━━━\u001b[0m \u001b[32m705.6/705.6 kB\u001b[0m \u001b[31m46.5 MB/s\u001b[0m eta \u001b[36m0:00:00\u001b[0m\n",
            "\u001b[?25hCollecting dotmap==1.3.30\n",
            "  Downloading dotmap-1.3.30-py3-none-any.whl (11 kB)\n",
            "Collecting ir-measures==0.3.1\n",
            "  Downloading ir_measures-0.3.1.tar.gz (46 kB)\n",
            "\u001b[2K     \u001b[90m━━━━━━━━━━━━━━━━━━━━━━━━━━━━━━━━━━━━━━━━\u001b[0m \u001b[32m46.5/46.5 kB\u001b[0m \u001b[31m5.5 MB/s\u001b[0m eta \u001b[36m0:00:00\u001b[0m\n",
            "\u001b[?25h  Preparing metadata (setup.py) ... \u001b[?25l\u001b[?25hdone\n",
            "Collecting torchmetrics==0.11.4\n",
            "  Downloading torchmetrics-0.11.4-py3-none-any.whl (519 kB)\n",
            "\u001b[2K     \u001b[90m━━━━━━━━━━━━━━━━━━━━━━━━━━━━━━━━━━━━━━\u001b[0m \u001b[32m519.2/519.2 kB\u001b[0m \u001b[31m46.0 MB/s\u001b[0m eta \u001b[36m0:00:00\u001b[0m\n",
            "\u001b[?25hCollecting torchtext==0.12.0\n",
            "  Downloading torchtext-0.12.0-cp310-cp310-manylinux1_x86_64.whl (10.4 MB)\n",
            "\u001b[2K     \u001b[90m━━━━━━━━━━━━━━━━━━━━━━━━━━━━━━━━━━━━━━━\u001b[0m \u001b[32m10.4/10.4 MB\u001b[0m \u001b[31m102.8 MB/s\u001b[0m eta \u001b[36m0:00:00\u001b[0m\n",
            "\u001b[?25hCollecting redis==5.0.0\n",
            "  Downloading redis-5.0.0-py3-none-any.whl (250 kB)\n",
            "\u001b[2K     \u001b[90m━━━━━━━━━━━━━━━━━━━━━━━━━━━━━━━━━━━━━━\u001b[0m \u001b[32m250.1/250.1 kB\u001b[0m \u001b[31m28.7 MB/s\u001b[0m eta \u001b[36m0:00:00\u001b[0m\n",
            "\u001b[?25hRequirement already satisfied: filelock in /usr/local/lib/python3.10/dist-packages (from transformers==4.32.0) (3.12.2)\n",
            "Collecting huggingface-hub<1.0,>=0.15.1 (from transformers==4.32.0)\n",
            "  Downloading huggingface_hub-0.16.4-py3-none-any.whl (268 kB)\n",
            "\u001b[2K     \u001b[90m━━━━━━━━━━━━━━━━━━━━━━━━━━━━━━━━━━━━━━\u001b[0m \u001b[32m268.8/268.8 kB\u001b[0m \u001b[31m30.5 MB/s\u001b[0m eta \u001b[36m0:00:00\u001b[0m\n",
            "\u001b[?25hRequirement already satisfied: numpy>=1.17 in /usr/local/lib/python3.10/dist-packages (from transformers==4.32.0) (1.23.5)\n",
            "Requirement already satisfied: packaging>=20.0 in /usr/local/lib/python3.10/dist-packages (from transformers==4.32.0) (23.1)\n",
            "Requirement already satisfied: pyyaml>=5.1 in /usr/local/lib/python3.10/dist-packages (from transformers==4.32.0) (6.0.1)\n",
            "Requirement already satisfied: regex!=2019.12.17 in /usr/local/lib/python3.10/dist-packages (from transformers==4.32.0) (2023.6.3)\n",
            "Requirement already satisfied: requests in /usr/local/lib/python3.10/dist-packages (from transformers==4.32.0) (2.31.0)\n",
            "Collecting tokenizers!=0.11.3,<0.14,>=0.11.1 (from transformers==4.32.0)\n",
            "  Downloading tokenizers-0.13.3-cp310-cp310-manylinux_2_17_x86_64.manylinux2014_x86_64.whl (7.8 MB)\n",
            "\u001b[2K     \u001b[90m━━━━━━━━━━━━━━━━━━━━━━━━━━━━━━━━━━━━━━━━\u001b[0m \u001b[32m7.8/7.8 MB\u001b[0m \u001b[31m122.8 MB/s\u001b[0m eta \u001b[36m0:00:00\u001b[0m\n",
            "\u001b[?25hCollecting safetensors>=0.3.1 (from transformers==4.32.0)\n",
            "  Downloading safetensors-0.3.3-cp310-cp310-manylinux_2_17_x86_64.manylinux2014_x86_64.whl (1.3 MB)\n",
            "\u001b[2K     \u001b[90m━━━━━━━━━━━━━━━━━━━━━━━━━━━━━━━━━━━━━━━━\u001b[0m \u001b[32m1.3/1.3 MB\u001b[0m \u001b[31m81.3 MB/s\u001b[0m eta \u001b[36m0:00:00\u001b[0m\n",
            "\u001b[?25hRequirement already satisfied: tqdm>=4.27 in /usr/local/lib/python3.10/dist-packages (from transformers==4.32.0) (4.66.1)\n",
            "Requirement already satisfied: typing-extensions in /usr/local/lib/python3.10/dist-packages (from torch==1.11.0) (4.7.1)\n",
            "Requirement already satisfied: scipy>=1.3.2 in /usr/local/lib/python3.10/dist-packages (from scikit-learn==1.1.3) (1.10.1)\n",
            "Requirement already satisfied: joblib>=1.0.0 in /usr/local/lib/python3.10/dist-packages (from scikit-learn==1.1.3) (1.3.2)\n",
            "Requirement already satisfied: threadpoolctl>=2.0.0 in /usr/local/lib/python3.10/dist-packages (from scikit-learn==1.1.3) (3.2.0)\n",
            "Requirement already satisfied: fsspec[http]!=2021.06.0,>=2021.05.0 in /usr/local/lib/python3.10/dist-packages (from pytorch_lightning==1.7.2) (2023.6.0)\n",
            "Requirement already satisfied: tensorboard>=2.9.1 in /usr/local/lib/python3.10/dist-packages (from pytorch_lightning==1.7.2) (2.12.3)\n",
            "Collecting pyDeprecate>=0.3.1 (from pytorch_lightning==1.7.2)\n",
            "  Downloading pyDeprecate-0.3.2-py3-none-any.whl (10 kB)\n",
            "Collecting pytrec-eval-terrier>=0.5.2 (from ir-measures==0.3.1)\n",
            "  Downloading pytrec_eval_terrier-0.5.5-cp310-cp310-manylinux_2_17_x86_64.manylinux2014_x86_64.whl (287 kB)\n",
            "\u001b[2K     \u001b[90m━━━━━━━━━━━━━━━━━━━━━━━━━━━━━━━━━━━━━━\u001b[0m \u001b[32m287.4/287.4 kB\u001b[0m \u001b[31m30.3 MB/s\u001b[0m eta \u001b[36m0:00:00\u001b[0m\n",
            "\u001b[?25hCollecting cwl-eval>=1.0.10 (from ir-measures==0.3.1)\n",
            "  Downloading cwl-eval-1.0.12.tar.gz (31 kB)\n",
            "  Preparing metadata (setup.py) ... \u001b[?25l\u001b[?25hdone\n",
            "Requirement already satisfied: async-timeout>=4.0.2 in /usr/local/lib/python3.10/dist-packages (from redis==5.0.0) (4.0.3)\n",
            "Requirement already satisfied: aiohttp!=4.0.0a0,!=4.0.0a1 in /usr/local/lib/python3.10/dist-packages (from fsspec[http]!=2021.06.0,>=2021.05.0->pytorch_lightning==1.7.2) (3.8.5)\n",
            "Requirement already satisfied: absl-py>=0.4 in /usr/local/lib/python3.10/dist-packages (from tensorboard>=2.9.1->pytorch_lightning==1.7.2) (1.4.0)\n",
            "Requirement already satisfied: grpcio>=1.48.2 in /usr/local/lib/python3.10/dist-packages (from tensorboard>=2.9.1->pytorch_lightning==1.7.2) (1.57.0)\n",
            "Requirement already satisfied: google-auth<3,>=1.6.3 in /usr/local/lib/python3.10/dist-packages (from tensorboard>=2.9.1->pytorch_lightning==1.7.2) (2.17.3)\n",
            "Requirement already satisfied: google-auth-oauthlib<1.1,>=0.5 in /usr/local/lib/python3.10/dist-packages (from tensorboard>=2.9.1->pytorch_lightning==1.7.2) (1.0.0)\n",
            "Requirement already satisfied: markdown>=2.6.8 in /usr/local/lib/python3.10/dist-packages (from tensorboard>=2.9.1->pytorch_lightning==1.7.2) (3.4.4)\n",
            "Requirement already satisfied: protobuf>=3.19.6 in /usr/local/lib/python3.10/dist-packages (from tensorboard>=2.9.1->pytorch_lightning==1.7.2) (3.20.3)\n",
            "Requirement already satisfied: setuptools>=41.0.0 in /usr/local/lib/python3.10/dist-packages (from tensorboard>=2.9.1->pytorch_lightning==1.7.2) (67.7.2)\n",
            "Requirement already satisfied: tensorboard-data-server<0.8.0,>=0.7.0 in /usr/local/lib/python3.10/dist-packages (from tensorboard>=2.9.1->pytorch_lightning==1.7.2) (0.7.1)\n",
            "Requirement already satisfied: werkzeug>=1.0.1 in /usr/local/lib/python3.10/dist-packages (from tensorboard>=2.9.1->pytorch_lightning==1.7.2) (2.3.7)\n",
            "Requirement already satisfied: wheel>=0.26 in /usr/local/lib/python3.10/dist-packages (from tensorboard>=2.9.1->pytorch_lightning==1.7.2) (0.41.2)\n",
            "Requirement already satisfied: charset-normalizer<4,>=2 in /usr/local/lib/python3.10/dist-packages (from requests->transformers==4.32.0) (3.2.0)\n",
            "Requirement already satisfied: idna<4,>=2.5 in /usr/local/lib/python3.10/dist-packages (from requests->transformers==4.32.0) (3.4)\n",
            "Requirement already satisfied: urllib3<3,>=1.21.1 in /usr/local/lib/python3.10/dist-packages (from requests->transformers==4.32.0) (2.0.4)\n",
            "Requirement already satisfied: certifi>=2017.4.17 in /usr/local/lib/python3.10/dist-packages (from requests->transformers==4.32.0) (2023.7.22)\n",
            "Requirement already satisfied: attrs>=17.3.0 in /usr/local/lib/python3.10/dist-packages (from aiohttp!=4.0.0a0,!=4.0.0a1->fsspec[http]!=2021.06.0,>=2021.05.0->pytorch_lightning==1.7.2) (23.1.0)\n",
            "Requirement already satisfied: multidict<7.0,>=4.5 in /usr/local/lib/python3.10/dist-packages (from aiohttp!=4.0.0a0,!=4.0.0a1->fsspec[http]!=2021.06.0,>=2021.05.0->pytorch_lightning==1.7.2) (6.0.4)\n",
            "Requirement already satisfied: yarl<2.0,>=1.0 in /usr/local/lib/python3.10/dist-packages (from aiohttp!=4.0.0a0,!=4.0.0a1->fsspec[http]!=2021.06.0,>=2021.05.0->pytorch_lightning==1.7.2) (1.9.2)\n",
            "Requirement already satisfied: frozenlist>=1.1.1 in /usr/local/lib/python3.10/dist-packages (from aiohttp!=4.0.0a0,!=4.0.0a1->fsspec[http]!=2021.06.0,>=2021.05.0->pytorch_lightning==1.7.2) (1.4.0)\n",
            "Requirement already satisfied: aiosignal>=1.1.2 in /usr/local/lib/python3.10/dist-packages (from aiohttp!=4.0.0a0,!=4.0.0a1->fsspec[http]!=2021.06.0,>=2021.05.0->pytorch_lightning==1.7.2) (1.3.1)\n",
            "Requirement already satisfied: cachetools<6.0,>=2.0.0 in /usr/local/lib/python3.10/dist-packages (from google-auth<3,>=1.6.3->tensorboard>=2.9.1->pytorch_lightning==1.7.2) (5.3.1)\n",
            "Requirement already satisfied: pyasn1-modules>=0.2.1 in /usr/local/lib/python3.10/dist-packages (from google-auth<3,>=1.6.3->tensorboard>=2.9.1->pytorch_lightning==1.7.2) (0.3.0)\n",
            "Requirement already satisfied: six>=1.9.0 in /usr/local/lib/python3.10/dist-packages (from google-auth<3,>=1.6.3->tensorboard>=2.9.1->pytorch_lightning==1.7.2) (1.16.0)\n",
            "Requirement already satisfied: rsa<5,>=3.1.4 in /usr/local/lib/python3.10/dist-packages (from google-auth<3,>=1.6.3->tensorboard>=2.9.1->pytorch_lightning==1.7.2) (4.9)\n",
            "Requirement already satisfied: requests-oauthlib>=0.7.0 in /usr/local/lib/python3.10/dist-packages (from google-auth-oauthlib<1.1,>=0.5->tensorboard>=2.9.1->pytorch_lightning==1.7.2) (1.3.1)\n",
            "Requirement already satisfied: MarkupSafe>=2.1.1 in /usr/local/lib/python3.10/dist-packages (from werkzeug>=1.0.1->tensorboard>=2.9.1->pytorch_lightning==1.7.2) (2.1.3)\n",
            "Requirement already satisfied: pyasn1<0.6.0,>=0.4.6 in /usr/local/lib/python3.10/dist-packages (from pyasn1-modules>=0.2.1->google-auth<3,>=1.6.3->tensorboard>=2.9.1->pytorch_lightning==1.7.2) (0.5.0)\n",
            "Requirement already satisfied: oauthlib>=3.0.0 in /usr/local/lib/python3.10/dist-packages (from requests-oauthlib>=0.7.0->google-auth-oauthlib<1.1,>=0.5->tensorboard>=2.9.1->pytorch_lightning==1.7.2) (3.2.2)\n",
            "Building wheels for collected packages: ir-measures, cwl-eval\n",
            "  Building wheel for ir-measures (setup.py) ... \u001b[?25l\u001b[?25hdone\n",
            "  Created wheel for ir-measures: filename=ir_measures-0.3.1-py3-none-any.whl size=60164 sha256=578387a2778262ad1c8f9ab13f805c8cf92c41cfd1779b03ffe89f5c3ef4e244\n",
            "  Stored in directory: /root/.cache/pip/wheels/ad/e3/ee/2a560f74973b5746b76065589c5b686e3acde23b4ded22c61c\n",
            "  Building wheel for cwl-eval (setup.py) ... \u001b[?25l\u001b[?25hdone\n",
            "  Created wheel for cwl-eval: filename=cwl_eval-1.0.12-py3-none-any.whl size=38068 sha256=c9e8022bdaecb68bca216a200a29946d47593d6b59a6dc878977aec03b3011da\n",
            "  Stored in directory: /root/.cache/pip/wheels/3d/c1/94/94a3e5379b1aa8fb7c7f1ad1956305d5edc98ef745b6067d87\n",
            "Successfully built ir-measures cwl-eval\n",
            "Installing collected packages: tokenizers, safetensors, dotmap, torch, redis, pytrec-eval-terrier, pyDeprecate, cwl-eval, torchtext, torchmetrics, scikit-learn, ir-measures, huggingface-hub, transformers, pytorch_lightning\n",
            "  Attempting uninstall: torch\n",
            "    Found existing installation: torch 2.0.1+cu118\n",
            "    Uninstalling torch-2.0.1+cu118:\n",
            "      Successfully uninstalled torch-2.0.1+cu118\n",
            "  Attempting uninstall: torchtext\n",
            "    Found existing installation: torchtext 0.15.2\n",
            "    Uninstalling torchtext-0.15.2:\n",
            "      Successfully uninstalled torchtext-0.15.2\n",
            "  Attempting uninstall: scikit-learn\n",
            "    Found existing installation: scikit-learn 1.2.2\n",
            "    Uninstalling scikit-learn-1.2.2:\n",
            "      Successfully uninstalled scikit-learn-1.2.2\n",
            "\u001b[31mERROR: pip's dependency resolver does not currently take into account all the packages that are installed. This behaviour is the source of the following dependency conflicts.\n",
            "torchaudio 2.0.2+cu118 requires torch==2.0.1, but you have torch 1.11.0 which is incompatible.\n",
            "torchdata 0.6.1 requires torch==2.0.1, but you have torch 1.11.0 which is incompatible.\n",
            "torchvision 0.15.2+cu118 requires torch==2.0.1, but you have torch 1.11.0 which is incompatible.\u001b[0m\u001b[31m\n",
            "\u001b[0mSuccessfully installed cwl-eval-1.0.12 dotmap-1.3.30 huggingface-hub-0.16.4 ir-measures-0.3.1 pyDeprecate-0.3.2 pytorch_lightning-1.7.2 pytrec-eval-terrier-0.5.5 redis-5.0.0 safetensors-0.3.3 scikit-learn-1.1.3 tokenizers-0.13.3 torch-1.11.0 torchmetrics-0.11.4 torchtext-0.12.0 transformers-4.32.0\n"
          ]
        }
      ]
    },
    {
      "cell_type": "code",
      "source": [
        "! git clone https://github.com/ProjectDossier/patient-trial-matching.git\n",
        "%cd patient-trial-matching\n",
        "! git checkout refactoring/repo\n",
        "! git submodule update --init --recursive\n",
        "! pip install -e clinical-trials\n",
        "! pip install -e .\n",
        "! python prepare_data.py\n",
        "%cd .."
      ],
      "metadata": {
        "id": "ENXOjhSNBtEs",
        "colab": {
          "base_uri": "https://localhost:8080/"
        },
        "outputId": "61efa57c-9daa-46c9-dc49-7d2e50b487b3"
      },
      "execution_count": 2,
      "outputs": [
        {
          "output_type": "stream",
          "name": "stdout",
          "text": [
            "Cloning into 'patient-trial-matching'...\n",
            "remote: Enumerating objects: 1144, done.\u001b[K\n",
            "remote: Counting objects: 100% (1144/1144), done.\u001b[K\n",
            "remote: Compressing objects: 100% (434/434), done.\u001b[K\n",
            "remote: Total 1144 (delta 752), reused 1082 (delta 693), pack-reused 0\u001b[K\n",
            "Receiving objects: 100% (1144/1144), 1.43 MiB | 1.14 MiB/s, done.\n",
            "Resolving deltas: 100% (752/752), done.\n",
            "/content/patient-trial-matching\n",
            "Branch 'refactoring/repo' set up to track remote branch 'refactoring/repo' from 'origin'.\n",
            "Switched to a new branch 'refactoring/repo'\n",
            "Submodule 'clinical-trials' (https://github.com/WojciechKusa/clinical-trials) registered for path 'clinical-trials'\n",
            "Cloning into '/content/patient-trial-matching/clinical-trials'...\n",
            "Submodule path 'clinical-trials': checked out '3776d880d8b4b08adff524b3f431265f33e1b430'\n",
            "Obtaining file:///content/patient-trial-matching/clinical-trials\n",
            "  Preparing metadata (setup.py) ... \u001b[?25l\u001b[?25hdone\n",
            "Requirement already satisfied: tqdm>=4.64.0 in /usr/local/lib/python3.10/dist-packages (from CTnlp==0.0.3) (4.66.1)\n",
            "Requirement already satisfied: defusedxml>=0.7.1 in /usr/local/lib/python3.10/dist-packages (from CTnlp==0.0.3) (0.7.1)\n",
            "Installing collected packages: CTnlp\n",
            "  Running setup.py develop for CTnlp\n",
            "Successfully installed CTnlp-0.0.3\n",
            "Obtaining file:///content/patient-trial-matching\n",
            "  Preparing metadata (setup.py) ... \u001b[?25l\u001b[?25hdone\n",
            "Installing collected packages: trec-cds\n",
            "  Running setup.py develop for trec-cds\n",
            "Successfully installed trec-cds-0.1.1\n",
            "--2023-08-28 10:09:30--  https://trec.nist.gov/data/trials/qrels2021.txt\n",
            "Resolving trec.nist.gov (trec.nist.gov)... 132.163.4.175, 2610:20:6b01:4::175\n",
            "Connecting to trec.nist.gov (trec.nist.gov)|132.163.4.175|:443... connected.\n",
            "HTTP request sent, awaiting response... 200 OK\n",
            "Length: 676496 (661K) [text/plain]\n",
            "Saving to: ‘data/external/qrels2021.txt’\n",
            "\n",
            "qrels2021.txt       100%[===================>] 660.64K   692KB/s    in 1.0s    \n",
            "\n",
            "2023-08-28 10:09:32 (692 KB/s) - ‘data/external/qrels2021.txt’ saved [676496/676496]\n",
            "\n",
            "--2023-08-28 10:09:32--  https://trec.nist.gov/data/trials/qrels2022.txt\n",
            "Resolving trec.nist.gov (trec.nist.gov)... 132.163.4.175, 2610:20:6b01:4::175\n",
            "Connecting to trec.nist.gov (trec.nist.gov)|132.163.4.175|:443... connected.\n",
            "HTTP request sent, awaiting response... 200 OK\n",
            "Length: 666030 (650K) [text/plain]\n",
            "Saving to: ‘data/external/qrels2022.txt’\n",
            "\n",
            "qrels2022.txt       100%[===================>] 650.42K   683KB/s    in 1.0s    \n",
            "\n",
            "2023-08-28 10:09:34 (683 KB/s) - ‘data/external/qrels2022.txt’ saved [666030/666030]\n",
            "\n",
            "--2023-08-28 10:09:34--  https://owncloud.tuwien.ac.at/index.php/s/xtvAkFbtDEvcB6Y/download\n",
            "Resolving owncloud.tuwien.ac.at (owncloud.tuwien.ac.at)... 128.130.35.207, 2001:629:3800:335::207\n",
            "Connecting to owncloud.tuwien.ac.at (owncloud.tuwien.ac.at)|128.130.35.207|:443... connected.\n",
            "HTTP request sent, awaiting response... 200 OK\n",
            "Length: 13617211 (13M) [application/zip]\n",
            "Saving to: ‘models/NER_model.zip’\n",
            "\n",
            "models/NER_model.zi 100%[===================>]  12.99M  6.57MB/s    in 2.0s    \n",
            "\n",
            "2023-08-28 10:09:38 (6.57 MB/s) - ‘models/NER_model.zip’ saved [13617211/13617211]\n",
            "\n",
            "Archive:  models/NER_model.zip\n",
            "   creating: models/ner_age_gender/\n",
            "   creating: models/ner_age_gender/lemmatizer/\n",
            "  inflating: models/ner_age_gender/.DS_Store  \n",
            "  inflating: models/__MACOSX/ner_age_gender/._.DS_Store  \n",
            "   creating: models/ner_age_gender/ner/\n",
            "  inflating: models/ner_age_gender/tokenizer  \n",
            "   creating: models/ner_age_gender/attribute_ruler/\n",
            "   creating: models/ner_age_gender/parser/\n",
            "   creating: models/ner_age_gender/vocab/\n",
            "  inflating: models/ner_age_gender/config.cfg  \n",
            "   creating: models/ner_age_gender/tok2vec/\n",
            "   creating: models/ner_age_gender/tagger/\n",
            "  inflating: models/ner_age_gender/meta.json  \n",
            "   creating: models/ner_age_gender/senter/\n",
            "   creating: models/ner_age_gender/lemmatizer/lookups/\n",
            "  inflating: models/ner_age_gender/ner/moves  \n",
            "  inflating: models/ner_age_gender/ner/cfg  \n",
            "  inflating: models/ner_age_gender/ner/model  \n",
            "  inflating: models/ner_age_gender/attribute_ruler/patterns  \n",
            "  inflating: models/ner_age_gender/parser/moves  \n",
            "  inflating: models/ner_age_gender/parser/cfg  \n",
            "  inflating: models/ner_age_gender/parser/model  \n",
            "  inflating: models/ner_age_gender/vocab/vectors  \n",
            "  inflating: models/ner_age_gender/vocab/lookups.bin  \n",
            "  inflating: models/ner_age_gender/vocab/strings.json  \n",
            "  inflating: models/ner_age_gender/vocab/key2row  \n",
            "  inflating: models/ner_age_gender/tok2vec/cfg  \n",
            "  inflating: models/ner_age_gender/tok2vec/model  \n",
            "  inflating: models/ner_age_gender/tagger/cfg  \n",
            "  inflating: models/ner_age_gender/tagger/model  \n",
            "  inflating: models/ner_age_gender/senter/cfg  \n",
            "  inflating: models/ner_age_gender/senter/model  \n",
            "  inflating: models/ner_age_gender/lemmatizer/lookups/lookups.bin  \n",
            "--2023-08-28 10:09:38--  https://owncloud.tuwien.ac.at/index.php/s/dFLy0DkHWhfJWCP/download\n",
            "Resolving owncloud.tuwien.ac.at (owncloud.tuwien.ac.at)... 128.130.35.207, 2001:629:3800:335::207\n",
            "Connecting to owncloud.tuwien.ac.at (owncloud.tuwien.ac.at)|128.130.35.207|:443... connected.\n",
            "HTTP request sent, awaiting response... 200 OK\n",
            "Length: 4129332 (3.9M) [application/octet-stream]\n",
            "Saving to: ‘data/submissions/bm25_postprocessed_2021’\n",
            "\n",
            "data/submissions/bm 100%[===================>]   3.94M  2.72MB/s    in 1.4s    \n",
            "\n",
            "2023-08-28 10:09:40 (2.72 MB/s) - ‘data/submissions/bm25_postprocessed_2021’ saved [4129332/4129332]\n",
            "\n",
            "--2023-08-28 10:09:40--  https://owncloud.tuwien.ac.at/index.php/s/kt4M8t7Uag0O2Id/download\n",
            "Resolving owncloud.tuwien.ac.at (owncloud.tuwien.ac.at)... 128.130.35.207, 2001:629:3800:335::207\n",
            "Connecting to owncloud.tuwien.ac.at (owncloud.tuwien.ac.at)|128.130.35.207|:443... connected.\n",
            "HTTP request sent, awaiting response... 200 OK\n",
            "Length: 2836026 (2.7M) [application/octet-stream]\n",
            "Saving to: ‘data/submissions/bm25_postprocessed_2022’\n",
            "\n",
            "data/submissions/bm 100%[===================>]   2.70M  2.12MB/s    in 1.3s    \n",
            "\n",
            "2023-08-28 10:09:42 (2.12 MB/s) - ‘data/submissions/bm25_postprocessed_2022’ saved [2836026/2836026]\n",
            "\n",
            "/content\n"
          ]
        }
      ]
    },
    {
      "cell_type": "code",
      "source": [
        "! cp -r patient-trial-matching/trec_cds ."
      ],
      "metadata": {
        "id": "9TVKq7qBBu0L"
      },
      "execution_count": 3,
      "outputs": []
    },
    {
      "cell_type": "markdown",
      "source": [
        "# 2. Get required data"
      ],
      "metadata": {
        "id": "LI8S7WOV9awv"
      }
    },
    {
      "cell_type": "code",
      "execution_count": 4,
      "metadata": {
        "id": "S5b7vw8BAQRN",
        "colab": {
          "base_uri": "https://localhost:8080/"
        },
        "outputId": "32965845-7f62-474d-e809-ca4e1c5c7d7f"
      },
      "outputs": [
        {
          "output_type": "stream",
          "name": "stdout",
          "text": [
            "--2023-08-28 10:09:42--  https://owncloud.tuwien.ac.at/index.php/s/cyPIaxzXoo2Czqa/download\n",
            "Resolving owncloud.tuwien.ac.at (owncloud.tuwien.ac.at)... 128.130.35.207, 2001:629:3800:335::207\n",
            "Connecting to owncloud.tuwien.ac.at (owncloud.tuwien.ac.at)|128.130.35.207|:443... connected.\n",
            "HTTP request sent, awaiting response... 200 OK\n",
            "Length: 217235944 (207M) [application/gzip]\n",
            "Saving to: ‘trials.tar.gz’\n",
            "\n",
            "trials.tar.gz       100%[===================>] 207.17M  16.1MB/s    in 14s     \n",
            "\n",
            "2023-08-28 10:09:57 (14.5 MB/s) - ‘trials.tar.gz’ saved [217235944/217235944]\n",
            "\n"
          ]
        }
      ],
      "source": [
        "! wget https://owncloud.tuwien.ac.at/index.php/s/cyPIaxzXoo2Czqa/download -O trials.tar.gz   # smaller subset of data\n",
        "# ! wget https://owncloud.tuwien.ac.at/index.php/s/NBsBSX3ch8RSUx1/download -O trials.tar.gz  # full dataset - requires at least 16GB of RAM\n",
        "\n",
        "! tar -xf trials.tar.gz"
      ]
    },
    {
      "cell_type": "code",
      "source": [
        "import sys\n",
        "sys.version"
      ],
      "metadata": {
        "id": "edwqsnj_B_2V",
        "colab": {
          "base_uri": "https://localhost:8080/",
          "height": 35
        },
        "outputId": "7c4ba5f1-ba19-414c-97b7-d51d741c9193"
      },
      "execution_count": 5,
      "outputs": [
        {
          "output_type": "execute_result",
          "data": {
            "text/plain": [
              "'3.10.12 (main, Jun 11 2023, 05:26:28) [GCC 11.4.0]'"
            ],
            "application/vnd.google.colaboratory.intrinsic+json": {
              "type": "string"
            }
          },
          "metadata": {},
          "execution_count": 5
        }
      ]
    },
    {
      "cell_type": "code",
      "source": [
        "! wget https://owncloud.tuwien.ac.at/index.php/s/Y0T0f65EKAdUytx -O run2022"
      ],
      "metadata": {
        "id": "qb8fJbhKp7Xw",
        "colab": {
          "base_uri": "https://localhost:8080/"
        },
        "outputId": "8baa11b5-12c6-4791-acea-7a7aa0af4cb1"
      },
      "execution_count": 6,
      "outputs": [
        {
          "output_type": "stream",
          "name": "stdout",
          "text": [
            "--2023-08-28 10:10:14--  https://owncloud.tuwien.ac.at/index.php/s/Y0T0f65EKAdUytx\n",
            "Resolving owncloud.tuwien.ac.at (owncloud.tuwien.ac.at)... 128.130.35.207, 2001:629:3800:335::207\n",
            "Connecting to owncloud.tuwien.ac.at (owncloud.tuwien.ac.at)|128.130.35.207|:443... connected.\n",
            "HTTP request sent, awaiting response... 200 OK\n",
            "Length: 13938 (14K) [text/html]\n",
            "Saving to: ‘run2022’\n",
            "\n",
            "run2022             100%[===================>]  13.61K  75.0KB/s    in 0.2s    \n",
            "\n",
            "2023-08-28 10:10:15 (75.0 KB/s) - ‘run2022’ saved [13938/13938]\n",
            "\n"
          ]
        }
      ]
    },
    {
      "cell_type": "markdown",
      "source": [
        "# Download pretrained models and preprocessed topics"
      ],
      "metadata": {
        "id": "wDvBxI63uGUW"
      }
    },
    {
      "cell_type": "code",
      "source": [
        "! wget https://owncloud.tuwien.ac.at/index.php/s/hwuQ7IvaBbFUNkd/download -O bertbase-trained.ckpt\n",
        "# ! wget https://owncloud.tuwien.ac.at/index.php/s/58KQznKpFSXYCOX/download -O bluebert-trained.ckpt\n",
        "# ! wget https://owncloud.tuwien.ac.at/index.php/s/gPZXdhS3j6ggrPr/download -O clinicalbert-trained.ckpt\n",
        "# ! wget https://owncloud.tuwien.ac.at/index.php/s/Dh4aIXxw3mg7JpS/download -O biobert-trained.ckpt"
      ],
      "metadata": {
        "id": "fMYAUed7qu6t",
        "colab": {
          "base_uri": "https://localhost:8080/"
        },
        "outputId": "36a1ffc4-e9ca-494d-a577-3b54cddf4c59"
      },
      "execution_count": 7,
      "outputs": [
        {
          "output_type": "stream",
          "name": "stdout",
          "text": [
            "--2023-08-28 10:10:15--  https://owncloud.tuwien.ac.at/index.php/s/hwuQ7IvaBbFUNkd/download\n",
            "Resolving owncloud.tuwien.ac.at (owncloud.tuwien.ac.at)... 128.130.35.207, 2001:629:3800:335::207\n",
            "Connecting to owncloud.tuwien.ac.at (owncloud.tuwien.ac.at)|128.130.35.207|:443... connected.\n",
            "HTTP request sent, awaiting response... 200 OK\n",
            "Length: 1309280781 (1.2G) [application/octet-stream]\n",
            "Saving to: ‘bertbase-trained.ckpt’\n",
            "\n",
            "bertbase-trained.ck 100%[===================>]   1.22G  16.0MB/s    in 79s     \n",
            "\n",
            "2023-08-28 10:11:35 (15.9 MB/s) - ‘bertbase-trained.ckpt’ saved [1309280781/1309280781]\n",
            "\n"
          ]
        }
      ]
    },
    {
      "cell_type": "code",
      "source": [
        "! wget https://owncloud.tuwien.ac.at/index.php/s/NxmMOJcKI3etFQR/download -O topics2021.jsonl\n",
        "! wget https://owncloud.tuwien.ac.at/index.php/s/5A5XlZtB6qSXCfo/download -O topics2022.jsonl"
      ],
      "metadata": {
        "id": "xs7DHIp2vCqL",
        "colab": {
          "base_uri": "https://localhost:8080/"
        },
        "outputId": "65a3ee8b-52cd-44bf-b805-6e07e8cf6e09"
      },
      "execution_count": 8,
      "outputs": [
        {
          "output_type": "stream",
          "name": "stdout",
          "text": [
            "--2023-08-28 10:11:35--  https://owncloud.tuwien.ac.at/index.php/s/NxmMOJcKI3etFQR/download\n",
            "Resolving owncloud.tuwien.ac.at (owncloud.tuwien.ac.at)... 128.130.35.207, 2001:629:3800:335::207\n",
            "Connecting to owncloud.tuwien.ac.at (owncloud.tuwien.ac.at)|128.130.35.207|:443... connected.\n",
            "HTTP request sent, awaiting response... 200 OK\n",
            "Length: 183498 (179K) [application/octet-stream]\n",
            "Saving to: ‘topics2021.jsonl’\n",
            "\n",
            "topics2021.jsonl    100%[===================>] 179.20K   326KB/s    in 0.5s    \n",
            "\n",
            "2023-08-28 10:11:37 (326 KB/s) - ‘topics2021.jsonl’ saved [183498/183498]\n",
            "\n",
            "--2023-08-28 10:11:37--  https://owncloud.tuwien.ac.at/index.php/s/5A5XlZtB6qSXCfo/download\n",
            "Resolving owncloud.tuwien.ac.at (owncloud.tuwien.ac.at)... 128.130.35.207, 2001:629:3800:335::207\n",
            "Connecting to owncloud.tuwien.ac.at (owncloud.tuwien.ac.at)|128.130.35.207|:443... connected.\n",
            "HTTP request sent, awaiting response... 200 OK\n",
            "Length: 89102 (87K) [application/octet-stream]\n",
            "Saving to: ‘topics2022.jsonl’\n",
            "\n",
            "topics2022.jsonl    100%[===================>]  87.01K   161KB/s    in 0.5s    \n",
            "\n",
            "2023-08-28 10:11:39 (161 KB/s) - ‘topics2022.jsonl’ saved [89102/89102]\n",
            "\n"
          ]
        }
      ]
    },
    {
      "cell_type": "markdown",
      "source": [
        "# Import packages"
      ],
      "metadata": {
        "id": "YAIj_aRklG11"
      }
    },
    {
      "cell_type": "code",
      "source": [
        "import transformers"
      ],
      "metadata": {
        "id": "kokjUKhZljXM"
      },
      "execution_count": 9,
      "outputs": []
    },
    {
      "cell_type": "code",
      "source": [
        "from transformers import AutoModel, AutoConfig, get_linear_schedule_with_warmup"
      ],
      "metadata": {
        "id": "S1dQGsJPlm0W"
      },
      "execution_count": 10,
      "outputs": []
    },
    {
      "cell_type": "code",
      "source": [
        "from transformers import AdamW"
      ],
      "metadata": {
        "id": "ibGCPdB9k5zD"
      },
      "execution_count": 11,
      "outputs": []
    },
    {
      "cell_type": "code",
      "source": [
        "import pytorch_lightning as pl\n",
        "import yaml\n",
        "from dotmap import DotMap\n",
        "from pytorch_lightning.loggers import TensorBoardLogger"
      ],
      "metadata": {
        "id": "4RDQtXO2t_gp",
        "colab": {
          "base_uri": "https://localhost:8080/"
        },
        "outputId": "8d5e14a5-4530-4669-a825-93c713ebca0b"
      },
      "execution_count": 12,
      "outputs": [
        {
          "output_type": "stream",
          "name": "stderr",
          "text": [
            "/usr/local/lib/python3.10/dist-packages/torchvision/io/image.py:13: UserWarning: Failed to load image Python extension: '/usr/local/lib/python3.10/dist-packages/torchvision/image.so: undefined symbol: _ZN3c104impl8GPUTrace13gpuTraceStateE'If you don't plan on using image functionality from `torchvision.io`, you can ignore this warning. Otherwise, there might be something wrong with your environment. Did you have `libjpeg` or `libpng` installed before building `torchvision` from source?\n",
            "  warn(\n"
          ]
        }
      ]
    },
    {
      "cell_type": "code",
      "source": [
        "import ir_measures\n",
        "import numpy as np\n",
        "from ir_measures import *"
      ],
      "metadata": {
        "id": "fAZRzN7Nc-Ah"
      },
      "execution_count": 13,
      "outputs": []
    },
    {
      "cell_type": "code",
      "source": [
        "from abc import ABC"
      ],
      "metadata": {
        "id": "hbGaqLfdc_rT"
      },
      "execution_count": 14,
      "outputs": []
    },
    {
      "cell_type": "code",
      "source": [
        "import torch\n",
        "from torch import nn, split"
      ],
      "metadata": {
        "id": "BEnwA0IZc4ru"
      },
      "execution_count": 15,
      "outputs": []
    },
    {
      "cell_type": "code",
      "source": [
        "from trec_cds.neural.data.ClinicalTrialsDataModule import ClinicalTrialsDataModule"
      ],
      "metadata": {
        "id": "JVKyXWPkabjp"
      },
      "execution_count": 16,
      "outputs": []
    },
    {
      "cell_type": "code",
      "source": [
        "from trec_cds.neural.models.crossencoder import CrossEncoder"
      ],
      "metadata": {
        "id": "pTzmgmlhcw_R"
      },
      "execution_count": 17,
      "outputs": []
    },
    {
      "cell_type": "code",
      "source": [
        "from trec_cds.neural.utils.evaluator import Evaluator"
      ],
      "metadata": {
        "id": "qcv4OC_qczV5"
      },
      "execution_count": 18,
      "outputs": []
    },
    {
      "cell_type": "code",
      "source": [
        "from trec_cds.neural.utils.loss import PairwiseHingeLoss"
      ],
      "metadata": {
        "id": "tleoRpTodBXu"
      },
      "execution_count": 19,
      "outputs": []
    },
    {
      "cell_type": "markdown",
      "source": [
        "# Load configuration"
      ],
      "metadata": {
        "id": "DcwSOVm5lI7a"
      }
    },
    {
      "cell_type": "code",
      "source": [
        "models = {\n",
        "    \"bertbase\": \"bert-base-uncased\",\n",
        "    \"biobert\": \"seiya/oubiobert-base-uncased\",\n",
        "    \"bluebert\": \"bionlp/bluebert_pubmed_uncased_L-12_H-768_A-12\",\n",
        "    \"clinicalbert\": \"Tsubasaz/clinical-pubmed-bert-base-512\"\n",
        "}"
      ],
      "metadata": {
        "id": "pAh5ulKUQ4e4"
      },
      "execution_count": 20,
      "outputs": []
    },
    {
      "cell_type": "code",
      "source": [
        "MODEL_NAME = \"bertbase\""
      ],
      "metadata": {
        "id": "FoS9W3ncRreu"
      },
      "execution_count": 21,
      "outputs": []
    },
    {
      "cell_type": "code",
      "source": [
        "MODEL_CHECKPOINT_PATH = f\"{MODEL_NAME}-trained.ckpt\"\n",
        "MODEL_ALIAS = f\"{MODEL_NAME}_crossencoder\"\n",
        "LOGGER_NAME = f\"{MODEL_NAME}_crossencoder\""
      ],
      "metadata": {
        "id": "GoGYCSFauyu-"
      },
      "execution_count": 22,
      "outputs": []
    },
    {
      "cell_type": "code",
      "source": [
        "PATH_TO_RUN = \"patient-trial-matching/data/submissions/bm25_postprocessed_2022\"\n",
        "PATH_TO_QRELS = \"patient-trial-matching/data/external/qrels2022.txt\"\n",
        "PATH_TO_TRIALS = \"essir_trials_subset.jsonl\" # change path if using all trials\n",
        "PATH_TO_PATIENTS = \"topics2022.jsonl\""
      ],
      "metadata": {
        "id": "tmdnGa9zd33V"
      },
      "execution_count": 27,
      "outputs": []
    },
    {
      "cell_type": "code",
      "source": [
        "BATCH_SIZE = 16\n",
        "N_SAMPLES = 50\n",
        "GPUS = [ 0 ]\n",
        "MODE = \"predict_w_labels\"\n",
        "FIELDS = ['criteria']\n",
        "QUERY_REPR = \"description\"\n",
        "RELEVANT_LABELS = [ 1, 2 ]\n",
        "VERSION = 2022"
      ],
      "metadata": {
        "id": "xtZzcz_qSlGQ"
      },
      "execution_count": 28,
      "outputs": []
    },
    {
      "cell_type": "code",
      "source": [
        "import os\n",
        "os.makedirs(\"reports\", exist_ok=True)"
      ],
      "metadata": {
        "id": "d_pe6V3qKeWQ",
        "colab": {
          "base_uri": "https://localhost:8080/",
          "height": 316
        },
        "outputId": "74d26629-eaff-4157-c7ed-c0949cf0429c"
      },
      "execution_count": 29,
      "outputs": [
        {
          "output_type": "error",
          "ename": "FileExistsError",
          "evalue": "ignored",
          "traceback": [
            "\u001b[0;31m---------------------------------------------------------------------------\u001b[0m",
            "\u001b[0;31mFileExistsError\u001b[0m                           Traceback (most recent call last)",
            "\u001b[0;32m<ipython-input-29-1814aca9c576>\u001b[0m in \u001b[0;36m<cell line: 2>\u001b[0;34m()\u001b[0m\n\u001b[1;32m      1\u001b[0m \u001b[0;32mimport\u001b[0m \u001b[0mos\u001b[0m\u001b[0;34m\u001b[0m\u001b[0;34m\u001b[0m\u001b[0m\n\u001b[0;32m----> 2\u001b[0;31m \u001b[0mos\u001b[0m\u001b[0;34m.\u001b[0m\u001b[0mmakedirs\u001b[0m\u001b[0;34m(\u001b[0m\u001b[0;34m\"reports\"\u001b[0m\u001b[0;34m)\u001b[0m\u001b[0;34m\u001b[0m\u001b[0;34m\u001b[0m\u001b[0m\n\u001b[0m",
            "\u001b[0;32m/usr/lib/python3.10/os.py\u001b[0m in \u001b[0;36mmakedirs\u001b[0;34m(name, mode, exist_ok)\u001b[0m\n\u001b[1;32m    223\u001b[0m             \u001b[0;32mreturn\u001b[0m\u001b[0;34m\u001b[0m\u001b[0;34m\u001b[0m\u001b[0m\n\u001b[1;32m    224\u001b[0m     \u001b[0;32mtry\u001b[0m\u001b[0;34m:\u001b[0m\u001b[0;34m\u001b[0m\u001b[0;34m\u001b[0m\u001b[0m\n\u001b[0;32m--> 225\u001b[0;31m         \u001b[0mmkdir\u001b[0m\u001b[0;34m(\u001b[0m\u001b[0mname\u001b[0m\u001b[0;34m,\u001b[0m \u001b[0mmode\u001b[0m\u001b[0;34m)\u001b[0m\u001b[0;34m\u001b[0m\u001b[0;34m\u001b[0m\u001b[0m\n\u001b[0m\u001b[1;32m    226\u001b[0m     \u001b[0;32mexcept\u001b[0m \u001b[0mOSError\u001b[0m\u001b[0;34m:\u001b[0m\u001b[0;34m\u001b[0m\u001b[0;34m\u001b[0m\u001b[0m\n\u001b[1;32m    227\u001b[0m         \u001b[0;31m# Cannot rely on checking for EEXIST, since the operating system\u001b[0m\u001b[0;34m\u001b[0m\u001b[0;34m\u001b[0m\u001b[0m\n",
            "\u001b[0;31mFileExistsError\u001b[0m: [Errno 17] File exists: 'reports'"
          ]
        }
      ]
    },
    {
      "cell_type": "markdown",
      "source": [
        "# Create a data module"
      ],
      "metadata": {
        "id": "hndMPN5AlMs8"
      }
    },
    {
      "cell_type": "code",
      "source": [
        "data_module = ClinicalTrialsDataModule(\n",
        "    eval_batch_size=BATCH_SIZE,\n",
        "    n_test_samples=N_SAMPLES,\n",
        "    model_name=models[MODEL_NAME],\n",
        "    mode=MODE,\n",
        "    fields=FIELDS,\n",
        "    query_repr=QUERY_REPR,\n",
        "    relevant_labels=RELEVANT_LABELS,\n",
        "    path_to_run=PATH_TO_RUN,\n",
        "    path_to_qrels=PATH_TO_QRELS,\n",
        "    path_to_trials_jsonl=PATH_TO_TRIALS,\n",
        "    dataset_version=VERSION,\n",
        "    path_to_patients=PATH_TO_PATIENTS,\n",
        "\n",
        ")"
      ],
      "metadata": {
        "id": "SaeVI5d1ui7u"
      },
      "execution_count": 30,
      "outputs": []
    },
    {
      "cell_type": "markdown",
      "source": [
        "# Create Evaluator"
      ],
      "metadata": {
        "id": "Gki8rOWVbApz"
      }
    },
    {
      "cell_type": "code",
      "source": [
        "evaluator = Evaluator(\n",
        "    write_csv=True,\n",
        "    mode=\"predict\",\n",
        "    output_path=\"reports/\",\n",
        "    run_id=models[MODEL_NAME],\n",
        "    re_rank=True,\n",
        "    path_to_base_run=PATH_TO_RUN,\n",
        "    qrels_file=PATH_TO_QRELS,\n",
        ")"
      ],
      "metadata": {
        "id": "t6Fw6m9Huk5Q"
      },
      "execution_count": 31,
      "outputs": []
    },
    {
      "cell_type": "markdown",
      "source": [
        "# Load Model from checkpoint"
      ],
      "metadata": {
        "id": "1xPl2qTUbUcl"
      }
    },
    {
      "cell_type": "code",
      "source": [
        "checkpoint = torch.load(MODEL_CHECKPOINT_PATH)\n",
        "\n",
        "state_dict = checkpoint['state_dict']\n",
        "if 'transformer.embeddings.position_ids' in state_dict:\n",
        "    del state_dict['transformer.embeddings.position_ids']\n",
        "\n",
        "# Update the state_dict and save a new checkpoint\n",
        "checkpoint['state_dict'] = state_dict\n",
        "torch.save(checkpoint, 'updated_checkpoint.ckpt')\n",
        "del checkpoint\n",
        "del state_dict"
      ],
      "metadata": {
        "id": "fWEX4UbWUj8K"
      },
      "execution_count": 32,
      "outputs": []
    },
    {
      "cell_type": "code",
      "source": [
        "model = CrossEncoder.load_from_checkpoint(\n",
        "    checkpoint_path='updated_checkpoint.ckpt',\n",
        "    model_name=models[MODEL_NAME],\n",
        "    num_labels=2,\n",
        "    mode=\"predict\",\n",
        "    evaluator=evaluator,\n",
        ")"
      ],
      "metadata": {
        "id": "71WSi65bumyH",
        "colab": {
          "base_uri": "https://localhost:8080/",
          "height": 81,
          "referenced_widgets": [
            "770f599986b84797a71daf9207a2daf3",
            "3d74fb6ba77f4187996aec03d93bd335",
            "24080cf7f6bb45369da23328ccd5bbf4",
            "e9e33bc500454784b664b24a80fd6c51",
            "c8631d37b446418399d1243a6daa0457",
            "6b654df77d824d5593ed599a7e0750f3",
            "b85cf333e4654cd48473ee0b6267e750",
            "d4779a91d3bd450bbc409d17181e3730",
            "a29a537c8d73419b8864e3635ef8c329",
            "1a9161eb72f44248b30314fadf878c4e",
            "ca80754093634bfcb6a917ee3030d21a",
            "6ec19d5fc4c24e3a940a823d33425f8b",
            "c5ed8561c5e348ccb671990b8c82e62f",
            "48bebb1f5a3e435594585269e57dca64",
            "8e54c9c2f5c34c12bb8b42fa8138c8d5",
            "e23e6b35c8984a75bcdd5793982fad44",
            "398370668aeb4bcb9d24de06420b56f7",
            "0c0fcc089f414bdab1d99099f17b4c04",
            "ad411427572846bfa18920750c7c4848",
            "ae3636fd5dd945b3aebce89b5fbf66b0",
            "6fa855ac242440169caf2a9037b0fd37",
            "4f275ac567fb4ee8a73714ab4fd98a08"
          ]
        },
        "outputId": "f38002a9-5b58-4335-f397-671d0dcdb7ef"
      },
      "execution_count": 33,
      "outputs": [
        {
          "output_type": "display_data",
          "data": {
            "text/plain": [
              "Downloading (…)lve/main/config.json:   0%|          | 0.00/570 [00:00<?, ?B/s]"
            ],
            "application/vnd.jupyter.widget-view+json": {
              "version_major": 2,
              "version_minor": 0,
              "model_id": "770f599986b84797a71daf9207a2daf3"
            }
          },
          "metadata": {}
        },
        {
          "output_type": "display_data",
          "data": {
            "text/plain": [
              "Downloading model.safetensors:   0%|          | 0.00/440M [00:00<?, ?B/s]"
            ],
            "application/vnd.jupyter.widget-view+json": {
              "version_major": 2,
              "version_minor": 0,
              "model_id": "6ec19d5fc4c24e3a940a823d33425f8b"
            }
          },
          "metadata": {}
        }
      ]
    },
    {
      "cell_type": "code",
      "source": [
        "logger = TensorBoardLogger(\n",
        "    save_dir=f\"reports/{models[MODEL_NAME]}_pred_logs\",\n",
        "    name=models[MODEL_NAME],\n",
        ")"
      ],
      "metadata": {
        "id": "xC9tLC-7un9m"
      },
      "execution_count": 34,
      "outputs": []
    },
    {
      "cell_type": "code",
      "source": [
        "gpus = [0]"
      ],
      "metadata": {
        "id": "O7bkhgudVjuO"
      },
      "execution_count": 35,
      "outputs": []
    },
    {
      "cell_type": "markdown",
      "source": [
        "# Create PyTorch Lightning Trainer object"
      ],
      "metadata": {
        "id": "OWROdYwmbaOr"
      }
    },
    {
      "cell_type": "code",
      "source": [
        "trainer = pl.Trainer(logger=logger, gpus=gpus)"
      ],
      "metadata": {
        "id": "VRBNhRzcupqd",
        "colab": {
          "base_uri": "https://localhost:8080/"
        },
        "outputId": "28385590-c9b7-4000-add6-beb32d146481"
      },
      "execution_count": 36,
      "outputs": [
        {
          "output_type": "stream",
          "name": "stderr",
          "text": [
            "/usr/local/lib/python3.10/dist-packages/pytorch_lightning/trainer/connectors/accelerator_connector.py:446: LightningDeprecationWarning: Setting `Trainer(gpus=[0])` is deprecated in v1.7 and will be removed in v2.0. Please use `Trainer(accelerator='gpu', devices=[0])` instead.\n",
            "  rank_zero_deprecation(\n",
            "INFO:pytorch_lightning.utilities.rank_zero:GPU available: True (cuda), used: True\n",
            "INFO:pytorch_lightning.utilities.rank_zero:TPU available: False, using: 0 TPU cores\n",
            "INFO:pytorch_lightning.utilities.rank_zero:IPU available: False, using: 0 IPUs\n",
            "INFO:pytorch_lightning.utilities.rank_zero:HPU available: False, using: 0 HPUs\n"
          ]
        }
      ]
    },
    {
      "cell_type": "markdown",
      "source": [
        "# Run the prediction"
      ],
      "metadata": {
        "id": "LNhaFKKDbf2E"
      }
    },
    {
      "cell_type": "code",
      "source": [
        "model_predictions = trainer.predict(model=model, dataloaders=data_module.predict_dataloader())"
      ],
      "metadata": {
        "id": "mrXim7Cxuq_F",
        "colab": {
          "base_uri": "https://localhost:8080/",
          "height": 180,
          "referenced_widgets": [
            "285d8756dfcd462896271b8c128508fa",
            "ef6d13c6bb7b4e27b0eae46876857af7",
            "c098fa65e9a34d5cbdf6ded6de1eb039",
            "c25575d69c134aa9a66b4fe08c156a0c",
            "433fb6c2c69340dc82899467abc62825",
            "4a3f2ae1e3354a80b6ba62f2b620a00e",
            "3429118e343c41ee8dc3d6e77f2aee1b",
            "b0994b96b97948d3af8253535a932203",
            "db57f56ca81c40259c94a7b4dc8042d9",
            "9edceb0711314e239faca577e4ee6475",
            "6060fc9e1e9f490a9a9ee5d5aae57955",
            "cc2f731853774a39b5d6cc7ffe29c032",
            "78a67a3656d848cab85025224799126f",
            "6a2649c9c7cf4c39a724baadc3e3711e",
            "476d934a160745afbb95db86e3db801a",
            "74de49eab39d44e9b379c4dfc4565e72",
            "139eb96c2abc408e850bd8dc50032434",
            "c57a7430ed0c43259fa4b5e894d8b5ff",
            "aea2795438fb4543ab634b472beefcf1",
            "362896555dca419c8fd2663f37be88bf",
            "01cc324be9ef44828738cdf7950b6563",
            "7717e0215668444897966e2ed95f0307",
            "e42e150165e14e898fdba672874b27bf",
            "97c542c384aa407e868201ed8dba80d9",
            "165df83b2eb24393955acb97929c23ff",
            "87ec264b787c4bc2b5560daeba6e3d3d",
            "579141a206144b06b694e31070e70bed",
            "e3bb2ee571c54572af857c18790586bd",
            "6ed6c557f6a641c7ba6ac1729e48c380",
            "416d8c32e4154d55a5d907170c67dc33",
            "15fe61824f9747b2925ded1d321b8cd9",
            "0780f5861b6348f9b548d92737969f37",
            "2afecaaa87f5435f99306f96170cb9ad",
            "b80c4b06763c4969a2acf0f4b7d8a1d4",
            "9a6a840448be400f81053a787b0ab310",
            "18b8c1cf04ab4a5083f457a4eb067254",
            "00078bf8927a4dab967b980af7d1ab20",
            "e8b6d8edb744408da5ad215b5a6bc3c9",
            "54bcc69c86dd4c4aaf9028cee8c5deba",
            "c81b04bff8204453842a484cf384ec05",
            "a1db709090c648a9800884d197512f50",
            "8e9882e6e9884914b46f720c3fe951e2",
            "e4a3242991554c5e910ed16749fa27a8",
            "bef15bea9fbf4139ba7811d7310e67eb"
          ]
        },
        "outputId": "d438c89d-b0f9-483b-d236-f901b80f2900"
      },
      "execution_count": 37,
      "outputs": [
        {
          "output_type": "stream",
          "name": "stderr",
          "text": [
            "WARNING:pytorch_lightning.loggers.tensorboard:Missing logger folder: reports/bert-base-uncased_pred_logs/bert-base-uncased\n",
            "INFO:pytorch_lightning.accelerators.cuda:LOCAL_RANK: 0 - CUDA_VISIBLE_DEVICES: [0]\n"
          ]
        },
        {
          "output_type": "display_data",
          "data": {
            "text/plain": [
              "Predicting: 0it [00:00, ?it/s]"
            ],
            "application/vnd.jupyter.widget-view+json": {
              "version_major": 2,
              "version_minor": 0,
              "model_id": "285d8756dfcd462896271b8c128508fa"
            }
          },
          "metadata": {}
        },
        {
          "output_type": "display_data",
          "data": {
            "text/plain": [
              "Downloading (…)okenizer_config.json:   0%|          | 0.00/28.0 [00:00<?, ?B/s]"
            ],
            "application/vnd.jupyter.widget-view+json": {
              "version_major": 2,
              "version_minor": 0,
              "model_id": "cc2f731853774a39b5d6cc7ffe29c032"
            }
          },
          "metadata": {}
        },
        {
          "output_type": "display_data",
          "data": {
            "text/plain": [
              "Downloading (…)solve/main/vocab.txt:   0%|          | 0.00/232k [00:00<?, ?B/s]"
            ],
            "application/vnd.jupyter.widget-view+json": {
              "version_major": 2,
              "version_minor": 0,
              "model_id": "e42e150165e14e898fdba672874b27bf"
            }
          },
          "metadata": {}
        },
        {
          "output_type": "display_data",
          "data": {
            "text/plain": [
              "Downloading (…)/main/tokenizer.json:   0%|          | 0.00/466k [00:00<?, ?B/s]"
            ],
            "application/vnd.jupyter.widget-view+json": {
              "version_major": 2,
              "version_minor": 0,
              "model_id": "b80c4b06763c4969a2acf0f4b7d8a1d4"
            }
          },
          "metadata": {}
        }
      ]
    },
    {
      "cell_type": "markdown",
      "source": [
        "# Inspect model predictions"
      ],
      "metadata": {
        "id": "YP8QZ1KZbrOP"
      }
    },
    {
      "cell_type": "code",
      "source": [
        "model_predictions[0]"
      ],
      "metadata": {
        "colab": {
          "base_uri": "https://localhost:8080/"
        },
        "id": "Zy-BdXAIcFyd",
        "outputId": "ab94f09e-6326-42c1-96e4-7a943a1f2665"
      },
      "execution_count": 39,
      "outputs": [
        {
          "output_type": "execute_result",
          "data": {
            "text/plain": [
              "{'qid': ['1',\n",
              "  '1',\n",
              "  '1',\n",
              "  '1',\n",
              "  '1',\n",
              "  '1',\n",
              "  '1',\n",
              "  '1',\n",
              "  '1',\n",
              "  '1',\n",
              "  '1',\n",
              "  '1',\n",
              "  '1',\n",
              "  '1',\n",
              "  '1',\n",
              "  '1'],\n",
              " 'docno': ['NCT02310074',\n",
              "  'NCT00064987',\n",
              "  'NCT04274894',\n",
              "  'NCT04717362',\n",
              "  'NCT00392756',\n",
              "  'NCT01511588',\n",
              "  'NCT00839319',\n",
              "  'NCT00156650',\n",
              "  'NCT04630275',\n",
              "  'NCT00493961',\n",
              "  'NCT04492553',\n",
              "  'NCT01370369',\n",
              "  'NCT00001202',\n",
              "  'NCT00493987',\n",
              "  'NCT01215292',\n",
              "  'NCT03203681'],\n",
              " 'prediction': tensor([[-6.8505],\n",
              "         [-1.7262],\n",
              "         [-6.8137],\n",
              "         [-7.0479],\n",
              "         [-6.6166],\n",
              "         [-3.0836],\n",
              "         [-6.6334],\n",
              "         [-3.0552],\n",
              "         [-8.1850],\n",
              "         [ 1.7427],\n",
              "         [-7.5633],\n",
              "         [-4.2983],\n",
              "         [-5.7420],\n",
              "         [-7.1165],\n",
              "         [-8.1332],\n",
              "         [-8.1229]])}"
            ]
          },
          "metadata": {},
          "execution_count": 39
        }
      ]
    },
    {
      "cell_type": "code",
      "source": [
        "model_predictions[0]['prediction']"
      ],
      "metadata": {
        "colab": {
          "base_uri": "https://localhost:8080/"
        },
        "id": "RI-kbE52sS2t",
        "outputId": "33147485-2ac9-4b9a-cb02-645303491019"
      },
      "execution_count": 42,
      "outputs": [
        {
          "output_type": "execute_result",
          "data": {
            "text/plain": [
              "tensor([[1.0589e-03],\n",
              "        [1.7796e-01],\n",
              "        [1.0986e-03],\n",
              "        [8.6923e-04],\n",
              "        [1.3380e-03],\n",
              "        [4.5795e-02],\n",
              "        [1.3157e-03],\n",
              "        [4.7114e-02],\n",
              "        [2.7879e-04],\n",
              "        [5.7128e+00],\n",
              "        [5.1916e-04],\n",
              "        [1.3592e-02],\n",
              "        [3.2085e-03],\n",
              "        [8.1159e-04],\n",
              "        [2.9364e-04],\n",
              "        [2.9668e-04]])"
            ]
          },
          "metadata": {},
          "execution_count": 42
        }
      ]
    },
    {
      "cell_type": "code",
      "source": [
        "# code todo..."
      ],
      "metadata": {
        "id": "vhpe1rJvbsiQ"
      },
      "execution_count": null,
      "outputs": []
    },
    {
      "cell_type": "markdown",
      "source": [
        "# Evaluate predictions"
      ],
      "metadata": {
        "id": "DbpjvBBTbumC"
      }
    },
    {
      "cell_type": "code",
      "source": [
        "# code todo"
      ],
      "metadata": {
        "id": "_8xsfdjHbvr8"
      },
      "execution_count": null,
      "outputs": []
    },
    {
      "cell_type": "markdown",
      "source": [
        "# Compare with baseline model"
      ],
      "metadata": {
        "id": "jaAbz-R6b2e8"
      }
    },
    {
      "cell_type": "code",
      "source": [
        "# load and evaluate BM25 model"
      ],
      "metadata": {
        "id": "X14KTWUtb4XO"
      },
      "execution_count": null,
      "outputs": []
    },
    {
      "cell_type": "code",
      "source": [
        "# plot for which queries neural improves over BM25"
      ],
      "metadata": {
        "id": "cSGjD8J6b83v"
      },
      "execution_count": null,
      "outputs": []
    }
  ]
}